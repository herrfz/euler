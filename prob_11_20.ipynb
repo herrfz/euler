{
 "metadata": {
  "name": "prob_11_20"
 },
 "nbformat": 3,
 "nbformat_minor": 0,
 "worksheets": [
  {
   "cells": [
    {
     "cell_type": "code",
     "collapsed": false,
     "input": [
      "%load_ext cythonmagic"
     ],
     "language": "python",
     "metadata": {},
     "outputs": [],
     "prompt_number": 1
    },
    {
     "cell_type": "code",
     "collapsed": false,
     "input": [
      "%load_ext autoreload\n",
      "%autoreload 2\n",
      "\n",
      "from inttools import *"
     ],
     "language": "python",
     "metadata": {},
     "outputs": [],
     "prompt_number": 2
    },
    {
     "cell_type": "markdown",
     "metadata": {},
     "source": [
      "<b>What is the greatest product of four adjacent numbers in the same direction (up, down, left, right, or diagonally) in the 20x20 grid?</b>"
     ]
    },
    {
     "cell_type": "code",
     "collapsed": false,
     "input": [
      "import numpy as np\n",
      "\n",
      "with open('numbers.txt', 'r') as f:\n",
      "    nums = [line.split() for line in f]\n",
      "    \n",
      "numarray = np.array(nums[0]).reshape((20, 20)).astype(int)\n",
      "print numarray"
     ],
     "language": "python",
     "metadata": {},
     "outputs": [
      {
       "output_type": "stream",
       "stream": "stdout",
       "text": [
        "[[ 8  2 22 97 38 15  0 40  0 75  4  5  7 78 52 12 50 77 91  8]\n",
        " [49 49 99 40 17 81 18 57 60 87 17 40 98 43 69 48  4 56 62  0]\n",
        " [81 49 31 73 55 79 14 29 93 71 40 67 53 88 30  3 49 13 36 65]\n",
        " [52 70 95 23  4 60 11 42 69 24 68 56  1 32 56 71 37  2 36 91]\n",
        " [22 31 16 71 51 67 63 89 41 92 36 54 22 40 40 28 66 33 13 80]\n",
        " [24 47 32 60 99  3 45  2 44 75 33 53 78 36 84 20 35 17 12 50]\n",
        " [32 98 81 28 64 23 67 10 26 38 40 67 59 54 70 66 18 38 64 70]\n",
        " [67 26 20 68  2 62 12 20 95 63 94 39 63  8 40 91 66 49 94 21]\n",
        " [24 55 58  5 66 73 99 26 97 17 78 78 96 83 14 88 34 89 63 72]\n",
        " [21 36 23  9 75  0 76 44 20 45 35 14  0 61 33 97 34 31 33 95]\n",
        " [78 17 53 28 22 75 31 67 15 94  3 80  4 62 16 14  9 53 56 92]\n",
        " [16 39  5 42 96 35 31 47 55 58 88 24  0 17 54 24 36 29 85 57]\n",
        " [86 56  0 48 35 71 89  7  5 44 44 37 44 60 21 58 51 54 17 58]\n",
        " [19 80 81 68  5 94 47 69 28 73 92 13 86 52 17 77  4 89 55 40]\n",
        " [ 4 52  8 83 97 35 99 16  7 97 57 32 16 26 26 79 33 27 98 66]\n",
        " [88 36 68 87 57 62 20 72  3 46 33 67 46 55 12 32 63 93 53 69]\n",
        " [ 4 42 16 73 38 25 39 11 24 94 72 18  8 46 29 32 40 62 76 36]\n",
        " [20 69 36 41 72 30 23 88 34 62 99 69 82 67 59 85 74  4 36 16]\n",
        " [20 73 35 29 78 31 90  1 74 31 49 71 48 86 81 16 23 57  5 54]\n",
        " [ 1 70 54 71 83 51 54 69 16 92 33 48 61 43 52  1 89 19 67 48]]\n"
       ]
      }
     ],
     "prompt_number": 3
    },
    {
     "cell_type": "code",
     "collapsed": false,
     "input": [
      "n = numarray.shape[0]\n",
      "maxc = np.zeros((n - 4, n - 4), dtype=int)\n",
      "maxr = np.zeros((n - 4, n - 4), dtype=int)\n",
      "maxd1 = np.zeros((n - 4, n - 4), dtype=int)\n",
      "maxd2 = np.zeros((n - 4, n - 4), dtype=int)\n",
      "\n",
      "for j in range(n - 4):\n",
      "    for i in range(n - 4):\n",
      "        maxc[i,j] = max(numarray[i:i+4,j:j+4].prod(axis=0))\n",
      "        maxr[i,j] = max(numarray[i:i+4,j:j+4].prod(axis=1))\n",
      "        maxd1[i,j] = numarray[i:i+4,j:j+4].diagonal().prod()\n",
      "        maxd2[i,j] = numarray[i:i+4,j:j+4][::-1].diagonal().prod()\n",
      "\n",
      "print max([np.max(maxc), np.max(maxr), np.max(maxd1), np.max(maxd2)])"
     ],
     "language": "python",
     "metadata": {},
     "outputs": [
      {
       "output_type": "stream",
       "stream": "stdout",
       "text": [
        "70600674\n"
       ]
      }
     ],
     "prompt_number": 4
    },
    {
     "cell_type": "markdown",
     "metadata": {},
     "source": [
      "<b>What is the value of the first triangle number to have over five hundred divisors?</b>\n",
      "\n",
      "If the prime factorization of $n$ is:\n",
      "\n",
      "$$n = (p^a)(q^b)...$$\n",
      "\n",
      "then the number of divisors of $n$ is:\n",
      "\n",
      "$$N = (a + 1)(b + 1)...$$"
     ]
    },
    {
     "cell_type": "code",
     "collapsed": false,
     "input": [
      "#%%timeit\n",
      "from collections import Counter\n",
      "from operator import mul\n",
      "\n",
      "def count_divisors(n):\n",
      "    c = Counter(prime_divisors(n))\n",
      "    return reduce(mul, [x + 1 for x in c.values()])\n",
      "\n",
      "i = 1000\n",
      "while count_divisors(i * (i+1) / 2) <= 500:\n",
      "    i += 1\n",
      "    \n",
      "i * (i+1) / 2"
     ],
     "language": "python",
     "metadata": {},
     "outputs": [
      {
       "output_type": "pyout",
       "prompt_number": 5,
       "text": [
        "76576500"
       ]
      }
     ],
     "prompt_number": 5
    },
    {
     "cell_type": "markdown",
     "metadata": {},
     "source": [
      "<b>Work out the first ten digits of the sum of the following one-hundred 50-digit numbers.</b>"
     ]
    },
    {
     "cell_type": "code",
     "collapsed": false,
     "input": [
      "nums = '''\n",
      "37107287533902102798797998220837590246510135740250\n",
      "46376937677490009712648124896970078050417018260538\n",
      "74324986199524741059474233309513058123726617309629\n",
      "91942213363574161572522430563301811072406154908250\n",
      "23067588207539346171171980310421047513778063246676\n",
      "89261670696623633820136378418383684178734361726757\n",
      "28112879812849979408065481931592621691275889832738\n",
      "44274228917432520321923589422876796487670272189318\n",
      "47451445736001306439091167216856844588711603153276\n",
      "70386486105843025439939619828917593665686757934951\n",
      "62176457141856560629502157223196586755079324193331\n",
      "64906352462741904929101432445813822663347944758178\n",
      "92575867718337217661963751590579239728245598838407\n",
      "58203565325359399008402633568948830189458628227828\n",
      "80181199384826282014278194139940567587151170094390\n",
      "35398664372827112653829987240784473053190104293586\n",
      "86515506006295864861532075273371959191420517255829\n",
      "71693888707715466499115593487603532921714970056938\n",
      "54370070576826684624621495650076471787294438377604\n",
      "53282654108756828443191190634694037855217779295145\n",
      "36123272525000296071075082563815656710885258350721\n",
      "45876576172410976447339110607218265236877223636045\n",
      "17423706905851860660448207621209813287860733969412\n",
      "81142660418086830619328460811191061556940512689692\n",
      "51934325451728388641918047049293215058642563049483\n",
      "62467221648435076201727918039944693004732956340691\n",
      "15732444386908125794514089057706229429197107928209\n",
      "55037687525678773091862540744969844508330393682126\n",
      "18336384825330154686196124348767681297534375946515\n",
      "80386287592878490201521685554828717201219257766954\n",
      "78182833757993103614740356856449095527097864797581\n",
      "16726320100436897842553539920931837441497806860984\n",
      "48403098129077791799088218795327364475675590848030\n",
      "87086987551392711854517078544161852424320693150332\n",
      "59959406895756536782107074926966537676326235447210\n",
      "69793950679652694742597709739166693763042633987085\n",
      "41052684708299085211399427365734116182760315001271\n",
      "65378607361501080857009149939512557028198746004375\n",
      "35829035317434717326932123578154982629742552737307\n",
      "94953759765105305946966067683156574377167401875275\n",
      "88902802571733229619176668713819931811048770190271\n",
      "25267680276078003013678680992525463401061632866526\n",
      "36270218540497705585629946580636237993140746255962\n",
      "24074486908231174977792365466257246923322810917141\n",
      "91430288197103288597806669760892938638285025333403\n",
      "34413065578016127815921815005561868836468420090470\n",
      "23053081172816430487623791969842487255036638784583\n",
      "11487696932154902810424020138335124462181441773470\n",
      "63783299490636259666498587618221225225512486764533\n",
      "67720186971698544312419572409913959008952310058822\n",
      "95548255300263520781532296796249481641953868218774\n",
      "76085327132285723110424803456124867697064507995236\n",
      "37774242535411291684276865538926205024910326572967\n",
      "23701913275725675285653248258265463092207058596522\n",
      "29798860272258331913126375147341994889534765745501\n",
      "18495701454879288984856827726077713721403798879715\n",
      "38298203783031473527721580348144513491373226651381\n",
      "34829543829199918180278916522431027392251122869539\n",
      "40957953066405232632538044100059654939159879593635\n",
      "29746152185502371307642255121183693803580388584903\n",
      "41698116222072977186158236678424689157993532961922\n",
      "62467957194401269043877107275048102390895523597457\n",
      "23189706772547915061505504953922979530901129967519\n",
      "86188088225875314529584099251203829009407770775672\n",
      "11306739708304724483816533873502340845647058077308\n",
      "82959174767140363198008187129011875491310547126581\n",
      "97623331044818386269515456334926366572897563400500\n",
      "42846280183517070527831839425882145521227251250327\n",
      "55121603546981200581762165212827652751691296897789\n",
      "32238195734329339946437501907836945765883352399886\n",
      "75506164965184775180738168837861091527357929701337\n",
      "62177842752192623401942399639168044983993173312731\n",
      "32924185707147349566916674687634660915035914677504\n",
      "99518671430235219628894890102423325116913619626622\n",
      "73267460800591547471830798392868535206946944540724\n",
      "76841822524674417161514036427982273348055556214818\n",
      "97142617910342598647204516893989422179826088076852\n",
      "87783646182799346313767754307809363333018982642090\n",
      "10848802521674670883215120185883543223812876952786\n",
      "71329612474782464538636993009049310363619763878039\n",
      "62184073572399794223406235393808339651327408011116\n",
      "66627891981488087797941876876144230030984490851411\n",
      "60661826293682836764744779239180335110989069790714\n",
      "85786944089552990653640447425576083659976645795096\n",
      "66024396409905389607120198219976047599490197230297\n",
      "64913982680032973156037120041377903785566085089252\n",
      "16730939319872750275468906903707539413042652315011\n",
      "94809377245048795150954100921645863754710598436791\n",
      "78639167021187492431995700641917969777599028300699\n",
      "15368713711936614952811305876380278410754449733078\n",
      "40789923115535562561142322423255033685442488917353\n",
      "44889911501440648020369068063960672322193204149535\n",
      "41503128880339536053299340368006977710650566631954\n",
      "81234880673210146739058568557934581403627822703280\n",
      "82616570773948327592232845941706525094512325230608\n",
      "22918802058777319719839450180888072429661980811197\n",
      "77158542502016545090413245809786882778948721859617\n",
      "72107838435069186155435662884062257473692284509516\n",
      "20849603980134001723930671666823555245252804609722\n",
      "53503534226472524250874054075591789781264330331690'''\n",
      "\n",
      "# since only 10 digits is required, just take 11 digits from each number\n",
      "str(sum(map(lambda x: int(x[:11]), nums.split())))[:10]"
     ],
     "language": "python",
     "metadata": {},
     "outputs": [
      {
       "output_type": "pyout",
       "prompt_number": 6,
       "text": [
        "'5537376230'"
       ]
      }
     ],
     "prompt_number": 6
    },
    {
     "cell_type": "markdown",
     "metadata": {},
     "source": [
      "<b>Which starting number, under one million, produces the longest chain?</b>\n",
      "\n",
      "<br>n <- n/2 (n is even)\n",
      "<br>n <- 3n + 1 (n is odd)"
     ]
    },
    {
     "cell_type": "code",
     "collapsed": false,
     "input": [
      "%%cython\n",
      "def max_collatz(num):\n",
      "    n = 3\n",
      "    m = 0\n",
      "\n",
      "    while n < num:\n",
      "        l = 1\n",
      "        i = n\n",
      "        while i > 1:\n",
      "            if i % 2 == 0:\n",
      "                i /= 2\n",
      "            else:\n",
      "                i = 3 * i + 1\n",
      "        \n",
      "            l += 1\n",
      "        \n",
      "        mc = max(m, l)\n",
      "        if mc > m:\n",
      "            s, m = n, mc\n",
      "        \n",
      "        n += 1\n",
      "        \n",
      "    return s, m"
     ],
     "language": "python",
     "metadata": {},
     "outputs": [],
     "prompt_number": 7
    },
    {
     "cell_type": "code",
     "collapsed": false,
     "input": [
      "max_collatz(1000000)"
     ],
     "language": "python",
     "metadata": {},
     "outputs": [
      {
       "output_type": "pyout",
       "prompt_number": 8,
       "text": [
        "(837799, 525)"
       ]
      }
     ],
     "prompt_number": 8
    },
    {
     "cell_type": "markdown",
     "metadata": {},
     "source": [
      "Other guy's solution, using recursion and caching the length of known sequences in a dict"
     ]
    },
    {
     "cell_type": "code",
     "collapsed": false,
     "input": [
      "%%cython\n",
      "kc = {} # known collatz\n",
      "\n",
      "def collatz(n):\n",
      "    cnt = 1\n",
      "    if n == 1:\n",
      "        return 1\n",
      "    if n in kc:\n",
      "        return kc[n]\n",
      "    t = 1 + collatz( n/2 if n % 2 == 0 else 3*n+1 )\n",
      "    kc[n] = t\n",
      "    return t"
     ],
     "language": "python",
     "metadata": {},
     "outputs": [],
     "prompt_number": 9
    },
    {
     "cell_type": "code",
     "collapsed": false,
     "input": [
      "i = 3\n",
      "highest = 0\n",
      "m = -1\n",
      "while i < 1000000:\n",
      "    c = collatz(i)\n",
      "    if c > highest:\n",
      "        highest = c\n",
      "        m = i\n",
      "    i += 1\n",
      "    \n",
      "print m,\"length =\",highest"
     ],
     "language": "python",
     "metadata": {},
     "outputs": [
      {
       "output_type": "stream",
       "stream": "stdout",
       "text": [
        "837799 length = 525\n"
       ]
      }
     ],
     "prompt_number": 10
    },
    {
     "cell_type": "markdown",
     "metadata": {},
     "source": [
      "<b>How many such routes are there through a 20x20 grid?</b>"
     ]
    },
    {
     "cell_type": "code",
     "collapsed": false,
     "input": [
      "from IPython.core.display import Image\n",
      "\n",
      "Image(filename='path.png')"
     ],
     "language": "python",
     "metadata": {},
     "outputs": [
      {
       "output_type": "pyout",
       "png": "[encoded data removed]",
       "prompt_number": 11,
       "text": [
        "<IPython.core.display.Image at 0x10e773150>"
       ]
      }
     ],
     "prompt_number": 11
    },
    {
     "cell_type": "markdown",
     "metadata": {},
     "source": [
      "The number of paths trough an nxn lattice is the nbr of ways the last node can be reached from its neighbours, see also http://www.robertdickau.com/lattices.html\n",
      "\n",
      "$${2n}\\choose{n}$$"
     ]
    },
    {
     "cell_type": "code",
     "collapsed": false,
     "input": [
      "from math import factorial\n",
      "\n",
      "n = 20\n",
      "factorial(2 * n)/(factorial(n)*factorial(n))"
     ],
     "language": "python",
     "metadata": {},
     "outputs": [
      {
       "output_type": "pyout",
       "prompt_number": 12,
       "text": [
        "137846528820L"
       ]
      }
     ],
     "prompt_number": 12
    },
    {
     "cell_type": "markdown",
     "metadata": {},
     "source": [
      "<b>What is the sum of the digits of the number $2^{1000}$?</b>"
     ]
    },
    {
     "cell_type": "code",
     "collapsed": false,
     "input": [
      "sum(map(int, str(2**1000)))"
     ],
     "language": "python",
     "metadata": {},
     "outputs": [
      {
       "output_type": "pyout",
       "prompt_number": 13,
       "text": [
        "1366"
       ]
      }
     ],
     "prompt_number": 13
    },
    {
     "cell_type": "markdown",
     "metadata": {},
     "source": [
      "<b>If all the numbers from 1 to 1000 (one thousand) inclusive were written out in words, how many letters would be used?</b>\n",
      "\n",
      "\n",
      "NOTE: Do not count spaces or hyphens. For example, 342 (three hundred and forty-two) contains 23 letters and 115 (one hundred and fifteen) contains 20 letters. The use of \"and\" when writing out numbers is in compliance with British usage."
     ]
    },
    {
     "cell_type": "code",
     "collapsed": false,
     "input": [
      "p_1 = ['', 'one', 'two', 'three', 'four', 'five', 'six', 'seven', 'eight', 'nine', 'ten',\n",
      "       'eleven', 'twelve', 'thirteen', 'fourteen', 'fifteen', 'sixteen', 'seventeen', 'eighteen', 'nineteen']\n",
      "p_2 = ['twenty', 'thirty', 'forty', 'fifty', 'sixty', 'seventy', 'eighty', 'ninety']\n",
      "\n",
      "n_1 = map(str, range(20))\n",
      "n_2 = map(str, range(2, 10))\n",
      "\n",
      "nd_1 = dict(zip(n_1, p_1))\n",
      "nd_2 = dict(zip(n_2, p_2))\n",
      "\n",
      "tot = 0\n",
      "\n",
      "for i in xrange(1, 1001):\n",
      "    if i < 100:\n",
      "        if i % 100 < 20:\n",
      "            pnum = nd_1[str(i)]\n",
      "            #print pnum\n",
      "            tot += len(pnum)\n",
      "            \n",
      "        else:\n",
      "            a, b = str(i)[0], str(i)[1:]\n",
      "            pnum = nd_2[a] + nd_1[b]\n",
      "            #print pnum\n",
      "            tot += len(pnum)\n",
      "            \n",
      "            \n",
      "    elif i >= 100 and i < 1000:\n",
      "        if i % 100 < 20:\n",
      "            a, b = str(i)[0], str(int(str(i)[1:])) # bit weird, to ignore the initial zeroes in 00, 01, ...\n",
      "            pnum = nd_1[a] + 'hundred' + nd_1[b] if b == '0' else nd_1[a] + 'hundredand' + nd_1[b]\n",
      "            if i == 115:\n",
      "                print pnum, len(pnum)\n",
      "            #print pnum\n",
      "            tot += len(pnum)\n",
      "            \n",
      "        else:\n",
      "            a, b, c = tuple(str(i))\n",
      "            pnum = nd_1[a] + 'hundredand' + nd_2[b] + nd_1[c]\n",
      "            if i == 342:\n",
      "                print pnum, len(pnum)\n",
      "            #print pnum\n",
      "            tot += len(pnum)\n",
      "            \n",
      "            \n",
      "    else:\n",
      "        #print 'onethousand'\n",
      "        tot += len('onethousand')\n",
      "        \n",
      "tot"
     ],
     "language": "python",
     "metadata": {},
     "outputs": [
      {
       "output_type": "stream",
       "stream": "stdout",
       "text": [
        "onehundredandfifteen 20\n",
        "threehundredandfortytwo 23\n"
       ]
      },
      {
       "output_type": "pyout",
       "prompt_number": 14,
       "text": [
        "21124"
       ]
      }
     ],
     "prompt_number": 14
    },
    {
     "cell_type": "markdown",
     "metadata": {},
     "source": [
      "<b>Find the maximum total from top to bottom of the triangle below</b>"
     ]
    },
    {
     "cell_type": "code",
     "collapsed": false,
     "input": [
      "Image(filename='triangle.png')"
     ],
     "language": "python",
     "metadata": {},
     "outputs": [
      {
       "output_type": "pyout",
       "png": "[encoded data removed]",
       "prompt_number": 15,
       "text": [
        "<IPython.core.display.Image at 0x10e7490d0>"
       ]
      }
     ],
     "prompt_number": 15
    },
    {
     "cell_type": "code",
     "collapsed": false,
     "input": [
      "with open('triangle.txt', 'r') as f:\n",
      "    lines = f.readlines()\n",
      "    \n",
      "lines = [[int(y) for y in x.strip().split()] for x in lines]\n",
      "\n",
      "for i in xrange(len(lines)-1, 0, -1):\n",
      "    for j in xrange(len(lines[i-1])):\n",
      "        lines[i-1][j] += max(lines[i][j], lines[i][j+1])\n",
      "        \n",
      "lines[0]"
     ],
     "language": "python",
     "metadata": {},
     "outputs": [
      {
       "output_type": "pyout",
       "prompt_number": 16,
       "text": [
        "[1074]"
       ]
      }
     ],
     "prompt_number": 16
    },
    {
     "cell_type": "markdown",
     "metadata": {},
     "source": [
      "<b>How many Sundays fell on the first of the month during the twentieth century (1 Jan 1901 to 31 Dec 2000)?</b>\n",
      "\n",
      "* 1 Jan 1900 was a Monday.\n",
      "* Thirty days has September, April, June and November. All the rest have thirty-one, Saving February alone, Which has twenty-eight, rain or shine. And on leap years, twenty-nine.\n",
      "* A leap year occurs on any year evenly divisible by 4, but not on a century unless it is divisible by 400."
     ]
    },
    {
     "cell_type": "code",
     "collapsed": false,
     "input": [
      "from itertools import product\n",
      "\n",
      "day = [1]\n",
      "months = range(1, 13)\n",
      "years = range(1901, 2001)\n",
      "\n",
      "mth_names = ['mar', 'apr', 'may', 'jun', 'jul', 'aug', 'sep', 'oct', 'nov', 'dec', 'jan', 'feb']\n",
      "mth_map = dict(zip(months, mth_names))\n",
      "\n",
      "day_names = ['sun', 'mon', 'tue', 'wed', 'thu', 'fri', 'sat']\n",
      "day_map = dict(zip(xrange(7), day_names))\n",
      "\n",
      "tot_sun = 0\n",
      "\n",
      "for date in product(day, months, years):\n",
      "    k = date[0]\n",
      "    m = date[1]\n",
      "    \n",
      "    cent = int(str(date[2])[:2])\n",
      "    decd = int(str(date[2])[2:])\n",
      "    \n",
      "    if mth_map[m] == 'jan' or mth_map[m] == 'feb':\n",
      "        D = (decd - 1) % 100\n",
      "        \n",
      "        if decd == 0:\n",
      "            C = cent - 1\n",
      "        else:\n",
      "            C = cent\n",
      "    else:\n",
      "        D = decd\n",
      "        C = cent\n",
      "    \n",
      "    # Zeller's formula; http://en.wikipedia.org/wiki/Zeller's_congruence\n",
      "    f = k + int((13 * m - 1) / 5) + D + int(D / 4) + int(C / 4) - 2 * C\n",
      "    \n",
      "    # for debugging; use just few years for quick inspection, e.g. years = [2013]\n",
      "    #print (k, mth_map[m], cent, decd), f % 7, day_map[f % 7]\n",
      "    \n",
      "    # without modulo modification\n",
      "    # in Python a % n returns value between 0 and n-1 even for negative a's\n",
      "    if day_map[f % 7] == 'sun':\n",
      "        tot_sun += 1\n",
      "        \n",
      "print 'total sundays: %d' % tot_sun"
     ],
     "language": "python",
     "metadata": {},
     "outputs": [
      {
       "output_type": "stream",
       "stream": "stdout",
       "text": [
        "total sundays: 171\n"
       ]
      }
     ],
     "prompt_number": 17
    },
    {
     "cell_type": "markdown",
     "metadata": {},
     "source": [
      "Reworked using `datetime`"
     ]
    },
    {
     "cell_type": "code",
     "collapsed": false,
     "input": [
      "from datetime import datetime\n",
      "\n",
      "count = 0\n",
      "\n",
      "for y in range(1901,2001):\n",
      "    for m in range(1,13):\n",
      "        if datetime(y, m, 1).weekday() == 6:\n",
      "            count += 1\n",
      "            \n",
      "count"
     ],
     "language": "python",
     "metadata": {},
     "outputs": [
      {
       "output_type": "pyout",
       "prompt_number": 18,
       "text": [
        "171"
       ]
      }
     ],
     "prompt_number": 18
    },
    {
     "cell_type": "markdown",
     "metadata": {},
     "source": [
      "<b>Find the sum of the digits in the number 100!</b>"
     ]
    },
    {
     "cell_type": "code",
     "collapsed": false,
     "input": [
      "sum(map(int, str(factorial(100))))"
     ],
     "language": "python",
     "metadata": {},
     "outputs": [
      {
       "output_type": "pyout",
       "prompt_number": 19,
       "text": [
        "648"
       ]
      }
     ],
     "prompt_number": 19
    },
    {
     "cell_type": "code",
     "collapsed": false,
     "input": [],
     "language": "python",
     "metadata": {},
     "outputs": []
    }
   ],
   "metadata": {}
  }
 ]
}