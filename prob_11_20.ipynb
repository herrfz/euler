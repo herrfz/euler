{
 "metadata": {
  "name": "prob_11_20"
 },
 "nbformat": 3,
 "nbformat_minor": 0,
 "worksheets": [
  {
   "cells": [
    {
     "cell_type": "code",
     "collapsed": false,
     "input": [
      "%load_ext cythonmagic"
     ],
     "language": "python",
     "metadata": {},
     "outputs": [],
     "prompt_number": 1
    },
    {
     "cell_type": "code",
     "collapsed": false,
     "input": [
      "%load_ext autoreload\n",
      "%autoreload 2\n",
      "\n",
      "from inttools import *"
     ],
     "language": "python",
     "metadata": {},
     "outputs": [],
     "prompt_number": 2
    },
    {
     "cell_type": "markdown",
     "metadata": {},
     "source": [
      "<b>What is the greatest product of four adjacent numbers in the same direction (up, down, left, right, or diagonally) in the 20x20 grid?</b>"
     ]
    },
    {
     "cell_type": "code",
     "collapsed": false,
     "input": [
      "import numpy as np\n",
      "\n",
      "with open('numbers.txt', 'r') as f:\n",
      "    nums = [line.split() for line in f]\n",
      "    \n",
      "numarray = np.array(nums[0]).reshape((20, 20)).astype(int)\n",
      "print numarray"
     ],
     "language": "python",
     "metadata": {},
     "outputs": [
      {
       "output_type": "stream",
       "stream": "stdout",
       "text": [
        "[[ 8  2 22 97 38 15  0 40  0 75  4  5  7 78 52 12 50 77 91  8]\n",
        " [49 49 99 40 17 81 18 57 60 87 17 40 98 43 69 48  4 56 62  0]\n",
        " [81 49 31 73 55 79 14 29 93 71 40 67 53 88 30  3 49 13 36 65]\n",
        " [52 70 95 23  4 60 11 42 69 24 68 56  1 32 56 71 37  2 36 91]\n",
        " [22 31 16 71 51 67 63 89 41 92 36 54 22 40 40 28 66 33 13 80]\n",
        " [24 47 32 60 99  3 45  2 44 75 33 53 78 36 84 20 35 17 12 50]\n",
        " [32 98 81 28 64 23 67 10 26 38 40 67 59 54 70 66 18 38 64 70]\n",
        " [67 26 20 68  2 62 12 20 95 63 94 39 63  8 40 91 66 49 94 21]\n",
        " [24 55 58  5 66 73 99 26 97 17 78 78 96 83 14 88 34 89 63 72]\n",
        " [21 36 23  9 75  0 76 44 20 45 35 14  0 61 33 97 34 31 33 95]\n",
        " [78 17 53 28 22 75 31 67 15 94  3 80  4 62 16 14  9 53 56 92]\n",
        " [16 39  5 42 96 35 31 47 55 58 88 24  0 17 54 24 36 29 85 57]\n",
        " [86 56  0 48 35 71 89  7  5 44 44 37 44 60 21 58 51 54 17 58]\n",
        " [19 80 81 68  5 94 47 69 28 73 92 13 86 52 17 77  4 89 55 40]\n",
        " [ 4 52  8 83 97 35 99 16  7 97 57 32 16 26 26 79 33 27 98 66]\n",
        " [88 36 68 87 57 62 20 72  3 46 33 67 46 55 12 32 63 93 53 69]\n",
        " [ 4 42 16 73 38 25 39 11 24 94 72 18  8 46 29 32 40 62 76 36]\n",
        " [20 69 36 41 72 30 23 88 34 62 99 69 82 67 59 85 74  4 36 16]\n",
        " [20 73 35 29 78 31 90  1 74 31 49 71 48 86 81 16 23 57  5 54]\n",
        " [ 1 70 54 71 83 51 54 69 16 92 33 48 61 43 52  1 89 19 67 48]]\n"
       ]
      }
     ],
     "prompt_number": 3
    },
    {
     "cell_type": "code",
     "collapsed": false,
     "input": [
      "n = numarray.shape[0]\n",
      "maxc = np.zeros((n - 4, n - 4), dtype=int)\n",
      "maxr = np.zeros((n - 4, n - 4), dtype=int)\n",
      "maxd1 = np.zeros((n - 4, n - 4), dtype=int)\n",
      "maxd2 = np.zeros((n - 4, n - 4), dtype=int)\n",
      "\n",
      "for j in range(n - 4):\n",
      "    for i in range(n - 4):\n",
      "        maxc[i,j] = max(numarray[i:i+4,j:j+4].prod(axis=0))\n",
      "        maxr[i,j] = max(numarray[i:i+4,j:j+4].prod(axis=1))\n",
      "        maxd1[i,j] = numarray[i:i+4,j:j+4].diagonal().prod()\n",
      "        maxd2[i,j] = numarray[i:i+4,j:j+4][::-1].diagonal().prod()\n",
      "\n",
      "print max([np.max(maxc), np.max(maxr), np.max(maxd1), np.max(maxd2)])"
     ],
     "language": "python",
     "metadata": {},
     "outputs": [
      {
       "output_type": "stream",
       "stream": "stdout",
       "text": [
        "70600674\n"
       ]
      }
     ],
     "prompt_number": 4
    },
    {
     "cell_type": "markdown",
     "metadata": {},
     "source": [
      "<b>What is the value of the first triangle number to have over five hundred divisors?</b>\n",
      "\n",
      "If the prime factorization of $n$ is:\n",
      "\n",
      "$$n = (p^a)(q^b)...$$\n",
      "\n",
      "then the number of divisors of $n$ is:\n",
      "\n",
      "$$N = (a + 1)(b + 1)...$$"
     ]
    },
    {
     "cell_type": "code",
     "collapsed": false,
     "input": [
      "#%%timeit\n",
      "from collections import Counter\n",
      "from operator import mul\n",
      "\n",
      "def count_divisors(n):\n",
      "    c = Counter(prime_divisors(n))\n",
      "    return reduce(mul, [x + 1 for x in c.values()])\n",
      "\n",
      "i = 1000\n",
      "while count_divisors(i * (i+1) / 2) <= 500:\n",
      "    i += 1\n",
      "    \n",
      "i * (i+1) / 2"
     ],
     "language": "python",
     "metadata": {},
     "outputs": [
      {
       "output_type": "pyout",
       "prompt_number": 27,
       "text": [
        "76576500"
       ]
      }
     ],
     "prompt_number": 27
    },
    {
     "cell_type": "code",
     "collapsed": false,
     "input": [],
     "language": "python",
     "metadata": {},
     "outputs": []
    }
   ],
   "metadata": {}
  }
 ]
}