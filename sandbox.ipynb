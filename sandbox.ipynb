{
 "metadata": {
  "name": "sandbox"
 },
 "nbformat": 3,
 "nbformat_minor": 0,
 "worksheets": [
  {
   "cells": [
    {
     "cell_type": "code",
     "collapsed": false,
     "input": [
      "def getPrimeDivisors(n):\n",
      "    import math\n",
      "    v = int(math.sqrt(n))\n",
      "    while v > 1:\n",
      "        if n % v == 0:\n",
      "            return getPrimeDivisors(v) + ([] if v == 1 else getPrimeDivisors(n/v))\n",
      "        v -= 1\n",
      "    return [n]"
     ],
     "language": "python",
     "metadata": {},
     "outputs": [],
     "prompt_number": 2
    },
    {
     "cell_type": "code",
     "collapsed": false,
     "input": [
      "getPrimeDivisors(7)"
     ],
     "language": "python",
     "metadata": {},
     "outputs": [
      {
       "output_type": "pyout",
       "prompt_number": 8,
       "text": [
        "[7]"
       ]
      }
     ],
     "prompt_number": 8
    },
    {
     "cell_type": "code",
     "collapsed": false,
     "input": [],
     "language": "python",
     "metadata": {},
     "outputs": []
    }
   ],
   "metadata": {}
  }
 ]
}