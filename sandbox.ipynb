{
 "metadata": {
  "name": "sandbox"
 },
 "nbformat": 3,
 "nbformat_minor": 0,
 "worksheets": [
  {
   "cells": [
    {
     "cell_type": "code",
     "collapsed": false,
     "input": [
      "def getPrimeDivisors(n):\n",
      "    import math\n",
      "    v = int(math.sqrt(n))\n",
      "    while v > 1:\n",
      "        if n % v == 0:\n",
      "            return getPrimeDivisors(v) + ([] if v == 1 else getPrimeDivisors(n/v))\n",
      "        v -= 1\n",
      "    return [n]"
     ],
     "language": "python",
     "metadata": {},
     "outputs": [],
     "prompt_number": 2
    },
    {
     "cell_type": "code",
     "collapsed": false,
     "input": [
      "getPrimeDivisors(7)"
     ],
     "language": "python",
     "metadata": {},
     "outputs": [
      {
       "output_type": "pyout",
       "prompt_number": 8,
       "text": [
        "[7]"
       ]
      }
     ],
     "prompt_number": 8
    },
    {
     "cell_type": "code",
     "collapsed": false,
     "input": [
      "# check if two strings are anagrams\n",
      "# O(n) for n-length strings\n",
      "def is_anagram(s1, s2):\n",
      "    if len(s1) != len(s2):\n",
      "        return False\n",
      "    \n",
      "    s1 = list(s1)\n",
      "    for xx in s2:\n",
      "        s1.remove(xx)\n",
      "        \n",
      "    if not s1:\n",
      "        return True\n",
      "    else:\n",
      "        return False"
     ],
     "language": "python",
     "metadata": {},
     "outputs": [],
     "prompt_number": 3
    },
    {
     "cell_type": "code",
     "collapsed": false,
     "input": [
      "%timeit is_anagram('debit card', 'bad credit')"
     ],
     "language": "python",
     "metadata": {},
     "outputs": [
      {
       "output_type": "stream",
       "stream": "stdout",
       "text": [
        "100000 loops, best of 3: 10.2 us per loop\n"
       ]
      }
     ],
     "prompt_number": 20
    },
    {
     "cell_type": "code",
     "collapsed": false,
     "input": [
      "# check if two strings are anagrams, \n",
      "# naive approach, check all permutations\n",
      "# O(n!) ?\n",
      "def is_anagram2(s1, s2):\n",
      "    from itertools import permutations\n",
      "    \n",
      "    f = False\n",
      "    for xx in permutations(s1):\n",
      "        if ''.join(xx) == s2:\n",
      "            f = True\n",
      "            break\n",
      "            \n",
      "    return f"
     ],
     "language": "python",
     "metadata": {},
     "outputs": [],
     "prompt_number": 21
    },
    {
     "cell_type": "code",
     "collapsed": false,
     "input": [
      "%timeit is_anagram2('debit card', 'bad credit')"
     ],
     "language": "python",
     "metadata": {},
     "outputs": [
      {
       "output_type": "stream",
       "stream": "stdout",
       "text": [
        "1 loops, best of 3: 857 ms per loop\n"
       ]
      }
     ],
     "prompt_number": 22
    },
    {
     "cell_type": "code",
     "collapsed": false,
     "input": [],
     "language": "python",
     "metadata": {},
     "outputs": []
    }
   ],
   "metadata": {}
  }
 ]
}