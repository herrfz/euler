{
 "metadata": {
  "name": "prob_21_30"
 },
 "nbformat": 3,
 "nbformat_minor": 0,
 "worksheets": [
  {
   "cells": [
    {
     "cell_type": "code",
     "collapsed": false,
     "input": [
      "%load_ext cythonmagic"
     ],
     "language": "python",
     "metadata": {},
     "outputs": [],
     "prompt_number": 1
    },
    {
     "cell_type": "code",
     "collapsed": false,
     "input": [
      "%load_ext autoreload\n",
      "%autoreload 2\n",
      "\n",
      "from inttools import *"
     ],
     "language": "python",
     "metadata": {},
     "outputs": [],
     "prompt_number": 2
    },
    {
     "cell_type": "markdown",
     "metadata": {},
     "source": [
      "<b>Evaluate the sum of all the amicable numbers under 10000.</b>\n",
      "\n",
      "Let $d(n)$ be defined as the sum of proper divisors of $n$ (numbers less than $n$ which divide evenly into $n$). If $d(a) = b$ and $d(b) = a$, where $a \\neq b$, then $a$ and $b$ are an amicable pair and each of $a$ and $b$ are called amicable numbers.\n",
      "\n",
      "For example, the proper divisors of 220 are 1, 2, 4, 5, 10, 11, 20, 22, 44, 55 and 110; therefore d(220) = 284. The proper divisors of 284 are 1, 2, 4, 71 and 142; so d(284) = 220."
     ]
    },
    {
     "cell_type": "code",
     "collapsed": false,
     "input": [
      "%%cython\n",
      "def list_sumdiv(int n):\n",
      "    from inttools import divisors\n",
      "    \n",
      "    cdef int i\n",
      "    v = []\n",
      "\n",
      "    for i in xrange(n):\n",
      "        v.append( sum(filter(lambda x: x != i, divisors(i))) )\n",
      "        \n",
      "    return v"
     ],
     "language": "python",
     "metadata": {},
     "outputs": [],
     "prompt_number": 3
    },
    {
     "cell_type": "code",
     "collapsed": false,
     "input": [
      "#%%timeit\n",
      "k = dict(zip(range(10000), list_sumdiv(10000)))\n",
      "s = 0\n",
      "\n",
      "for i in k:\n",
      "    if k[i] in k and k[i] != i:\n",
      "        if k[k[i]] == i:\n",
      "            s += i\n",
      "            \n",
      "s"
     ],
     "language": "python",
     "metadata": {},
     "outputs": [
      {
       "output_type": "pyout",
       "prompt_number": 4,
       "text": [
        "31626"
       ]
      }
     ],
     "prompt_number": 4
    },
    {
     "cell_type": "markdown",
     "metadata": {},
     "source": [
      "<b>What is the total of all the name scores in the file?</b>\n",
      "\n",
      "For example, when the list is sorted into alphabetical order, COLIN, which is worth 3 + 15 + 12 + 9 + 14 = 53, is the 938th name in the list. So, COLIN would obtain a score of 938x53 = 49714."
     ]
    },
    {
     "cell_type": "code",
     "collapsed": false,
     "input": [
      "#%%timeit\n",
      "with open('names.txt', 'r') as f:\n",
      "    names = f.readline()\n",
      "    \n",
      "names = [x.replace('\"', '') for x in names.split(',')]\n",
      "names.sort()\n",
      "names = dict(zip(xrange(1, len(names) + 1), names))\n",
      "\n",
      "letters_score = dict(zip('ABCDEFGHIJKLMNOPQRSTUVWXYZ', xrange(1, 27)))\n",
      "\n",
      "sum([y * sum([letters_score[x] for x in names[y]]) for y in names])"
     ],
     "language": "python",
     "metadata": {},
     "outputs": [
      {
       "output_type": "pyout",
       "prompt_number": 5,
       "text": [
        "871198282"
       ]
      }
     ],
     "prompt_number": 5
    },
    {
     "cell_type": "markdown",
     "metadata": {},
     "source": [
      "<b>Find the sum of all the positive integers which cannot be written as the sum of two abundant numbers.</b>\n",
      "\n",
      "A <i>perfect number</i> is a number for which the sum of its proper divisors is exactly equal to the number. For example, the sum of the proper divisors of 28 would be 1 + 2 + 4 + 7 + 14 = 28.\n",
      "\n",
      "A number n is called <i>deficient</i> if the sum of its proper divisors is less than n and it is called <i>abundant</i> if this sum exceeds n.\n",
      "\n",
      "As 12 is the smallest abundant number, 1 + 2 + 3 + 4 + 6 = 16, the smallest number that can be written as the sum of two abundant numbers is 24. By mathematical analysis, it can be shown that all integers greater than 28123 can be written as the sum of two abundant numbers. However, this upper limit cannot be reduced any further by analysis even though it is known that the greatest number that cannot be expressed as the sum of two abundant numbers is less than this limit."
     ]
    },
    {
     "cell_type": "code",
     "collapsed": false,
     "input": [
      "n = 28123\n",
      "divisors_sum = dict(zip(xrange(n + 1), list_sumdiv(n + 1)))\n",
      "abundant = []\n",
      "\n",
      "# collect the abundant numbers\n",
      "for k in divisors_sum:\n",
      "    if divisors_sum[k] > k:\n",
      "        abundant.append(k)\n",
      "        \n",
      "# make it a dict for fast lookup\n",
      "abdict = {x:x for x in abundant}"
     ],
     "language": "python",
     "metadata": {},
     "outputs": [],
     "prompt_number": 6
    },
    {
     "cell_type": "code",
     "collapsed": false,
     "input": [
      "# collect the numbers that *can* be expressed as a sum of two abundants.\n",
      "# a 'fast' way to check if a number can be expressed as a sum of two abundants\n",
      "# is by subtracting the number with an abundant, and check if the result is also abundant\n",
      "sumabs = []\n",
      "for ii in xrange(1, n + 1):\n",
      "    for jj in abdict:\n",
      "        if ii - jj in abdict:\n",
      "            sumabs.append(ii)\n",
      "            break\n",
      "            \n",
      "# make a dict for fast lookup\n",
      "sumabsdict = {x:x for x in sumabs}\n",
      "\n",
      "# now that we have the list of numbers that are sum of two abundants,\n",
      "# the numbers we're looking for is then other integeres not in the list\n",
      "notab = filter(lambda x: x not in sumabsdict, xrange(1, n + 1))\n",
      "\n",
      "# the sum\n",
      "sum(notab)"
     ],
     "language": "python",
     "metadata": {},
     "outputs": [
      {
       "output_type": "pyout",
       "prompt_number": 7,
       "text": [
        "4179871"
       ]
      }
     ],
     "prompt_number": 7
    },
    {
     "cell_type": "code",
     "collapsed": false,
     "input": [
      "import numpy as np\n",
      "\n",
      "plot(notab, [1] * len(notab), '.r', alpha=.6)\n",
      "plot([28123] * 100, np.linspace(0.5, 1.5, num=100))"
     ],
     "language": "python",
     "metadata": {},
     "outputs": [
      {
       "output_type": "pyout",
       "prompt_number": 8,
       "text": [
        "[<matplotlib.lines.Line2D at 0x112ed2710>]"
       ]
      },
      {
       "output_type": "display_data",
       "png": "[encoded data removed]"
      }
     ],
     "prompt_number": 8
    },
    {
     "cell_type": "markdown",
     "metadata": {},
     "source": [
      "<b>What is the millionth lexicographic permutation of the digits 0, 1, 2, 3, 4, 5, 6, 7, 8 and 9?</b>"
     ]
    },
    {
     "cell_type": "code",
     "collapsed": false,
     "input": [
      "from itertools import permutations\n",
      "\n",
      "nums = [str(x) for x in xrange(10)]\n",
      "\n",
      "# Python's permutations is lexicographically sorted\n",
      "[''.join(x) for x in permutations(nums)][1000000 - 1]"
     ],
     "language": "python",
     "metadata": {},
     "outputs": [
      {
       "output_type": "pyout",
       "prompt_number": 9,
       "text": [
        "'2783915460'"
       ]
      }
     ],
     "prompt_number": 9
    },
    {
     "cell_type": "markdown",
     "metadata": {},
     "source": [
      "<b>What is the first term in the Fibonacci sequence to contain 1000 digits?</b>\n",
      "\n",
      " F1 = 1 and F2 = 1"
     ]
    },
    {
     "cell_type": "code",
     "collapsed": false,
     "input": [
      "a = 1\n",
      "b = 1\n",
      "i = 2\n",
      "\n",
      "while len(str(a)) < 1000:\n",
      "    i += 1\n",
      "    a, b = a + b, a\n",
      "    \n",
      "i"
     ],
     "language": "python",
     "metadata": {},
     "outputs": [
      {
       "output_type": "pyout",
       "prompt_number": 10,
       "text": [
        "4782"
       ]
      }
     ],
     "prompt_number": 10
    },
    {
     "cell_type": "markdown",
     "metadata": {},
     "source": [
      "<b>Find the value of $d < 1000$ for which $1/d$ contains the longest recurring cycle in its decimal fraction part.</b>"
     ]
    },
    {
     "cell_type": "code",
     "collapsed": false,
     "input": [
      "%%cython\n",
      "def cycle_period(int n, int d):\n",
      "    from operator import sub\n",
      "    \n",
      "    cdef int i, x\n",
      "\n",
      "    dec = []\n",
      "    while True:\n",
      "        while n < d:\n",
      "            n *= 10\n",
      "        \n",
      "        n = n % d\n",
      "    \n",
      "        if n in dec or n == 0:\n",
      "            dec.append(n)\n",
      "            break\n",
      "        \n",
      "        dec.append(n)\n",
      "    \n",
      "    if dec[-1] == 0:\n",
      "        return -1\n",
      "    else:\n",
      "        return abs(reduce(sub, [i for i, x in enumerate(dec) if x == dec[-1]]))"
     ],
     "language": "python",
     "metadata": {},
     "outputs": [],
     "prompt_number": 11
    },
    {
     "cell_type": "code",
     "collapsed": false,
     "input": [
      "##%%timeit\n",
      "n = 1\n",
      "m = 0\n",
      "\n",
      "for i in xrange(1, 1000):\n",
      "    mm = cycle_period(n, i)\n",
      "    if mm > m:\n",
      "        m = mm\n",
      "        i_m = i\n",
      "    \n",
      "i_m, m"
     ],
     "language": "python",
     "metadata": {},
     "outputs": [
      {
       "output_type": "pyout",
       "prompt_number": 12,
       "text": [
        "(983, 884)"
       ]
      }
     ],
     "prompt_number": 12
    },
    {
     "cell_type": "markdown",
     "metadata": {},
     "source": [
      "<b>Find the product of the coefficients, a and b, for the quadratic expression that produces the maximum number of primes for consecutive values of n, starting with n = 0.</b>\n",
      "\n",
      "$n^2 + an + b$, where $|a| < 1000$ and $|b| < 1000$"
     ]
    },
    {
     "cell_type": "code",
     "collapsed": false,
     "input": [
      "dim = 999 * 2 + 1\n",
      "coefgrid = np.zeros((dim, dim), dtype=int)\n",
      "\n",
      "for a in xrange(-999, 1000):\n",
      "    for b in xrange(-999, 1000):\n",
      "        i = 0\n",
      "        run = 0\n",
      "        while isprime(i**2 + a*i + b) and isprime((i+1)**2 + a*(i+1) + b):\n",
      "            i += 1\n",
      "            run = i\n",
      "            \n",
      "        coefgrid[a+999, b+999] = run + 1"
     ],
     "language": "python",
     "metadata": {},
     "outputs": [],
     "prompt_number": 13
    },
    {
     "cell_type": "code",
     "collapsed": false,
     "input": [
      "matshow(coefgrid, cmap='gist_stern')"
     ],
     "language": "python",
     "metadata": {},
     "outputs": [
      {
       "output_type": "pyout",
       "prompt_number": 14,
       "text": [
        "<matplotlib.image.AxesImage at 0x112fb3990>"
       ]
      },
      {
       "output_type": "display_data",
       "png": "[encoded data removed]"
      }
     ],
     "prompt_number": 14
    },
    {
     "cell_type": "code",
     "collapsed": false,
     "input": [
      "from itertools import chain\n",
      "\n",
      "t = 1\n",
      "for i in chain(np.where(coefgrid == coefgrid.max())):\n",
      "    t *= (i - 999)\n",
      "t"
     ],
     "language": "python",
     "metadata": {},
     "outputs": [
      {
       "output_type": "pyout",
       "prompt_number": 15,
       "text": [
        "array([-59231])"
       ]
      }
     ],
     "prompt_number": 15
    },
    {
     "cell_type": "markdown",
     "metadata": {},
     "source": [
      "<b>What is the sum of the numbers on the diagonals in a 1001 by 1001 spiral formed in the same way?</b>"
     ]
    },
    {
     "cell_type": "code",
     "collapsed": false,
     "input": [
      "from IPython.core.display import Image\n",
      "\n",
      "Image(filename='diag.png')"
     ],
     "language": "python",
     "metadata": {},
     "outputs": [
      {
       "output_type": "pyout",
       "png": "[encoded data removed]",
       "prompt_number": 16,
       "text": [
        "<IPython.core.display.Image at 0x112fb6d90>"
       ]
      }
     ],
     "prompt_number": 16
    },
    {
     "cell_type": "code",
     "collapsed": false,
     "input": [
      "a = {1: [1], 3: [3, 5, 7, 9], 5: [13, 17, 21, 25]}\n",
      "a"
     ],
     "language": "python",
     "metadata": {},
     "outputs": [
      {
       "output_type": "pyout",
       "prompt_number": 17,
       "text": [
        "{1: [1], 3: [3, 5, 7, 9], 5: [13, 17, 21, 25]}"
       ]
      }
     ],
     "prompt_number": 17
    },
    {
     "cell_type": "code",
     "collapsed": false,
     "input": [
      "n = 1001\n",
      "i = 1\n",
      "a = {1: [1]}\n",
      "s = sum(a[1])\n",
      "\n",
      "while i <= n-2:\n",
      "    last = a[i][-1]\n",
      "    i += 2\n",
      "    a[i] = [last + (i - 1) * x for x in xrange(1, 5)]\n",
      "    s += sum(a[i])\n",
      "s"
     ],
     "language": "python",
     "metadata": {},
     "outputs": [
      {
       "output_type": "pyout",
       "prompt_number": 18,
       "text": [
        "669171001"
       ]
      }
     ],
     "prompt_number": 18
    },
    {
     "cell_type": "markdown",
     "metadata": {},
     "source": [
      "<b>How many distinct terms are in the sequence generated by $a^b$ for $2 \\le a \\le 100$ and $2 \\le b \\le 100$?</b>"
     ]
    },
    {
     "cell_type": "code",
     "collapsed": false,
     "input": [
      "#%%timeit\n",
      "len(set(a**b for a in range(2, 101) for b in range(2, 101)))"
     ],
     "language": "python",
     "metadata": {},
     "outputs": [
      {
       "output_type": "pyout",
       "prompt_number": 19,
       "text": [
        "9183"
       ]
      }
     ],
     "prompt_number": 19
    },
    {
     "cell_type": "markdown",
     "metadata": {},
     "source": [
      "<b>Find the sum of all the numbers that can be written as the sum of fifth powers of their digits.</b>"
     ]
    },
    {
     "cell_type": "code",
     "collapsed": false,
     "input": [
      "%%cython\n",
      "def fifth_power(n, p):\n",
      "    s = 0\n",
      "    nums = []\n",
      "    for i in xrange(n):\n",
      "        if i == sum([int(x)**p for x in str(i)]) and i not in [0, 1]:\n",
      "            s += i\n",
      "            nums.append(i)\n",
      "            \n",
      "    return s, nums"
     ],
     "language": "python",
     "metadata": {},
     "outputs": [],
     "prompt_number": 35
    },
    {
     "cell_type": "code",
     "collapsed": false,
     "input": [
      "n = 7 * 9**5 # 7-digit assumption\n",
      "\n",
      "fifth_power(n, 5)"
     ],
     "language": "python",
     "metadata": {},
     "outputs": [
      {
       "output_type": "pyout",
       "prompt_number": 39,
       "text": [
        "(443839, [4150, 4151, 54748, 92727, 93084, 194979])"
       ]
      }
     ],
     "prompt_number": 39
    },
    {
     "cell_type": "code",
     "collapsed": false,
     "input": [],
     "language": "python",
     "metadata": {},
     "outputs": []
    }
   ],
   "metadata": {}
  }
 ]
}