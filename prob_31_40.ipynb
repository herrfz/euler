{
 "metadata": {
  "name": "prob_31_40"
 },
 "nbformat": 3,
 "nbformat_minor": 0,
 "worksheets": [
  {
   "cells": [
    {
     "cell_type": "code",
     "collapsed": false,
     "input": [
      "%load_ext cythonmagic"
     ],
     "language": "python",
     "metadata": {},
     "outputs": [],
     "prompt_number": 1
    },
    {
     "cell_type": "code",
     "collapsed": false,
     "input": [
      "from inttools import *"
     ],
     "language": "python",
     "metadata": {},
     "outputs": [],
     "prompt_number": 2
    },
    {
     "cell_type": "markdown",
     "metadata": {},
     "source": [
      "<b>How many different ways can \u00a32 be made using any number of coins?</b>\n",
      "\n",
      "It is possible to make \u00a32 in the following way:\n",
      "\n",
      "1x\u00a31 + 1x50p + 2x20p + 1x5p + 1x2p + 3x1p"
     ]
    },
    {
     "cell_type": "code",
     "collapsed": false,
     "input": [
      "%%cython\n",
      "def compute_coin_com(int n):\n",
      "    from operator import mul\n",
      "    \n",
      "    cdef int a, b, c, d, e, f, g\n",
      "\n",
      "    coins = [200, 100, 50, 20, 10, 5, 2, 1]\n",
      "    com = []\n",
      "\n",
      "    for a in xrange(n/coins[0] + 1):\n",
      "        if a == 1:\n",
      "            com.append([a, 0, 0, 0, 0, 0, 0, 0])\n",
      "            break\n",
      "        \n",
      "        for b in xrange(n/coins[1] + 1):\n",
      "            if a == 0 and b == 2:\n",
      "                com.append([a, b, 0, 0, 0, 0, 0])\n",
      "                break\n",
      "            \n",
      "            for c in xrange(n/coins[2] + 1):\n",
      "                if a == 0 and b == 0 and c == 4:\n",
      "                    com.append([a, b, c, 0, 0, 0, 0, 0])\n",
      "                    break\n",
      "                \n",
      "                for d in xrange(n/coins[3] + 1):\n",
      "                    if a == 0 and b == 0 and c == 0 and d == 10:\n",
      "                        com.append([a, b, c, d, 0, 0, 0, 0])\n",
      "                        break\n",
      "                \n",
      "                    for e in xrange(n/coins[4] + 1):\n",
      "                        if a == 0 and b == 0 and c == 0 and d == 0 and e == 20:\n",
      "                            com.append([a, b, c, d, e, 0, 0, 0])\n",
      "                            break\n",
      "                        \n",
      "                        for f in xrange(n/coins[5] + 1):\n",
      "                            if a == 0 and b == 0 and c == 0 and d == 0 and e == 0 and f == 40:\n",
      "                                com.append([a, b, c, d, e, f, 0, 0])\n",
      "                                break\n",
      "                        \n",
      "                            for g in xrange(n/coins[6] + 1):\n",
      "                                s = sum([mul(x, y) for x, y in zip([a, b, c, d, e, f, g], coins[:-1])])\n",
      "                                if s > n:\n",
      "                                    break\n",
      "                                com.append([a, b, c, d, e, f, g, n - s])\n",
      "                                \n",
      "    return com"
     ],
     "language": "python",
     "metadata": {},
     "outputs": [],
     "prompt_number": 3
    },
    {
     "cell_type": "code",
     "collapsed": false,
     "input": [
      "com = compute_coin_com(200)\n",
      "[0, 1, 1, 2, 0, 1, 1, 3] in com"
     ],
     "language": "python",
     "metadata": {},
     "outputs": [
      {
       "output_type": "pyout",
       "prompt_number": 4,
       "text": [
        "True"
       ]
      }
     ],
     "prompt_number": 4
    },
    {
     "cell_type": "code",
     "collapsed": false,
     "input": [
      "#%%timeit\n",
      "# it's about 1 sec due to cython, but definitely not the most efficient implementation\n",
      "com = compute_coin_com(200)\n",
      "print len(com)"
     ],
     "language": "python",
     "metadata": {},
     "outputs": [
      {
       "output_type": "stream",
       "stream": "stdout",
       "text": [
        "73682\n"
       ]
      }
     ],
     "prompt_number": 5
    },
    {
     "cell_type": "markdown",
     "metadata": {},
     "source": [
      "<b>Find the sum of all products whose multiplicand/multiplier/product identity can be written as a 1 through 9 pandigital.</b>"
     ]
    },
    {
     "cell_type": "code",
     "collapsed": false,
     "input": [
      "%%cython\n",
      "def sum_pandig():\n",
      "    prods = []\n",
      "    alldigs = ['1', '2', '3', '4', '5', '6', '7', '8', '9']\n",
      "\n",
      "    for a in xrange(1, 10000):\n",
      "        if a < 10:\n",
      "            for b in xrange(1000, 10000):\n",
      "                if sorted(str(a) + str(b) + str(a * b)) == alldigs:\n",
      "                    prods.append(a * b)\n",
      "                \n",
      "        elif a >= 10 and a < 100:\n",
      "            for b in xrange(100, 1000):\n",
      "                if sorted(str(a) + str(b) + str(a * b)) == alldigs:\n",
      "                    prods.append(a * b)\n",
      "                \n",
      "        elif a >= 100 and a < 1000:\n",
      "            for b in xrange(10, 100):\n",
      "                if sorted(str(a) + str(b) + str(a * b)) == alldigs:\n",
      "                    prods.append(a * b)\n",
      "        else:\n",
      "            for b in xrange(1, 10):\n",
      "                if sorted(str(a) + str(b) + str(a * b)) == alldigs:\n",
      "                    prods.append(a * b)\n",
      "                    \n",
      "    return sum(list(set(prods)))"
     ],
     "language": "python",
     "metadata": {},
     "outputs": [],
     "prompt_number": 6
    },
    {
     "cell_type": "code",
     "collapsed": false,
     "input": [
      "#%%timeit\n",
      "sum_pandig()"
     ],
     "language": "python",
     "metadata": {},
     "outputs": [
      {
       "output_type": "pyout",
       "prompt_number": 7,
       "text": [
        "45228"
       ]
      }
     ],
     "prompt_number": 7
    },
    {
     "cell_type": "markdown",
     "metadata": {},
     "source": [
      "<b>If the product of these four fractions is given in its lowest common terms, find the value of the denominator.</b>"
     ]
    },
    {
     "cell_type": "code",
     "collapsed": false,
     "input": [
      "#%%timeit\n",
      "noms = []\n",
      "denoms = []\n",
      "for xx in xrange(11, 100):\n",
      "    for yy in xrange(xx + 1, 100):\n",
      "        val = float(xx) / yy\n",
      "        if yy % 10 != 0:\n",
      "            nle = float(xx//10)\n",
      "            nri = float(xx%10)\n",
      "            dle = float(yy//10)\n",
      "            dri = float(yy%10)\n",
      "            \n",
      "            if (nle == dle and nri/dri == val) or \\\n",
      "               (nle == dri and nri/dle == val) or \\\n",
      "               (nri == dle and nle/dri == val) or \\\n",
      "               (nri == dri and nle/dle == val):\n",
      "                noms.append(xx)\n",
      "                denoms.append(yy)\n",
      "                \n",
      "nn = reduce(lambda x, y: x * y, noms)\n",
      "dd = reduce(lambda x, y: x * y, denoms)\n",
      "nn / gcd(nn, dd), dd / gcd(nn, dd)"
     ],
     "language": "python",
     "metadata": {},
     "outputs": [
      {
       "output_type": "pyout",
       "prompt_number": 8,
       "text": [
        "(1, 100)"
       ]
      }
     ],
     "prompt_number": 8
    },
    {
     "cell_type": "markdown",
     "metadata": {},
     "source": [
      "<b>Find the sum of all numbers which are equal to the sum of the factorial of their digits.</b>"
     ]
    },
    {
     "cell_type": "code",
     "collapsed": false,
     "input": [
      "%%cython\n",
      "def sum_factorion(lim):\n",
      "    f = [1, 1, 2, 6, 24, 120, 720, 5040, 40320, 362880]\n",
      "    cdef int s = 0, i\n",
      "    \n",
      "    for i in xrange(3, lim):\n",
      "        if sum([f[int(d)] for d in str(i)]) == i:\n",
      "            s += i\n",
      "        \n",
      "    return s"
     ],
     "language": "python",
     "metadata": {},
     "outputs": [],
     "prompt_number": 9
    },
    {
     "cell_type": "code",
     "collapsed": false,
     "input": [
      "lim = 100000\n",
      "sum_factorion(lim)"
     ],
     "language": "python",
     "metadata": {},
     "outputs": [
      {
       "output_type": "pyout",
       "prompt_number": 10,
       "text": [
        "40730"
       ]
      }
     ],
     "prompt_number": 10
    },
    {
     "cell_type": "markdown",
     "metadata": {},
     "source": [
      "<b>How many circular primes are there below one million?</b>"
     ]
    },
    {
     "cell_type": "code",
     "collapsed": false,
     "input": [
      "%%cython\n",
      "def circ_prime(int n):\n",
      "    from collections import deque\n",
      "    from inttools import sieve\n",
      "    \n",
      "    cdef int i, j, jj\n",
      "\n",
      "    primes = sieve(n)\n",
      "    # make a dict for fast lookup\n",
      "    pdict = {x:x for x in primes}\n",
      "    # first circular primes\n",
      "    pcirc = [2, 3, 5, 7, 11]\n",
      "\n",
      "    for i in primes:\n",
      "        # 5 can eventually be at the rightmost, thus making i divisible by 5\n",
      "        if i not in pcirc and '5' not in str(i): \n",
      "            g = deque(str(i))\n",
      "    \n",
      "            flag = []\n",
      "            currcirc = []\n",
      "    \n",
      "            for j in xrange(len(g)):\n",
      "                num = int(''.join(list(g)))\n",
      "                currcirc.append(num)\n",
      "                flag.append( num in pdict )\n",
      "                g.rotate(-1)\n",
      "        \n",
      "            if all(flag):\n",
      "                for jj in currcirc:\n",
      "                    pcirc.append(jj)\n",
      "                    #print jj\n",
      "                \n",
      "    return pcirc"
     ],
     "language": "python",
     "metadata": {},
     "outputs": [],
     "prompt_number": 11
    },
    {
     "cell_type": "code",
     "collapsed": false,
     "input": [
      "len(circ_prime(1000000))"
     ],
     "language": "python",
     "metadata": {},
     "outputs": [
      {
       "output_type": "pyout",
       "prompt_number": 12,
       "text": [
        "55"
       ]
      }
     ],
     "prompt_number": 12
    },
    {
     "cell_type": "markdown",
     "metadata": {},
     "source": [
      "<b>Find the sum of all numbers, less than one million, which are palindromic in base 10 and base 2.</b>"
     ]
    },
    {
     "cell_type": "code",
     "collapsed": false,
     "input": [
      "sum([i for i in xrange(1000000) if str(i) == str(i)[::-1] and bin(i)[2:] == bin(i)[2:][::-1]])"
     ],
     "language": "python",
     "metadata": {},
     "outputs": [
      {
       "output_type": "pyout",
       "prompt_number": 13,
       "text": [
        "872187"
       ]
      }
     ],
     "prompt_number": 13
    },
    {
     "cell_type": "markdown",
     "metadata": {},
     "source": [
      "<b>Find the sum of the only eleven primes that are both truncatable from left to right and right to left.</b>"
     ]
    },
    {
     "cell_type": "code",
     "collapsed": false,
     "input": [
      "primes = {x:x for x in sieve(1000000)}\n",
      "trunc_primes = []\n",
      "\n",
      "for i in primes:\n",
      "    stri = str(i)\n",
      "    temp = []\n",
      "    \n",
      "    if i not in [2, 3, 5, 7] and i not in trunc_primes:\n",
      "        for xx in xrange(len(stri)):\n",
      "            temp.append( stri[xx:] )\n",
      "            if stri[:xx]:\n",
      "                temp.append( stri[:xx] )\n",
      "            \n",
      "        if all([int(u) in primes for u in temp]):\n",
      "            trunc_primes.append(i)\n",
      "            \n",
      "sum(trunc_primes)"
     ],
     "language": "python",
     "metadata": {},
     "outputs": [
      {
       "output_type": "pyout",
       "prompt_number": 142,
       "text": [
        "748317"
       ]
      }
     ],
     "prompt_number": 142
    },
    {
     "cell_type": "code",
     "collapsed": false,
     "input": [],
     "language": "python",
     "metadata": {},
     "outputs": []
    }
   ],
   "metadata": {}
  }
 ]
}