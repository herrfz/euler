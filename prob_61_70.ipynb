{
 "metadata": {
  "name": "prob_61_70"
 },
 "nbformat": 3,
 "nbformat_minor": 0,
 "worksheets": [
  {
   "cells": [
    {
     "cell_type": "markdown",
     "metadata": {},
     "source": [
      "<b>Find the maximum total from top to bottom in triangle.txt (right click and 'Save Link/Target As...'), a 15K text file containing a triangle with one-hundred rows.</b>"
     ]
    },
    {
     "cell_type": "code",
     "collapsed": false,
     "input": [
      "with open('triangle2.txt', 'r') as f:\n",
      "    lines = f.readlines()\n",
      "    \n",
      "lines = [[int(y) for y in x.strip().split()] for x in lines]\n",
      "\n",
      "for i in xrange(len(lines)-1, 0, -1):\n",
      "    for j in xrange(len(lines[i-1])):\n",
      "        lines[i-1][j] += max(lines[i][j], lines[i][j+1])\n",
      "        \n",
      "lines[0]"
     ],
     "language": "python",
     "metadata": {},
     "outputs": [
      {
       "output_type": "pyout",
       "prompt_number": 1,
       "text": [
        "[7273]"
       ]
      }
     ],
     "prompt_number": 1
    },
    {
     "cell_type": "code",
     "collapsed": false,
     "input": [],
     "language": "python",
     "metadata": {},
     "outputs": []
    }
   ],
   "metadata": {}
  }
 ]
}