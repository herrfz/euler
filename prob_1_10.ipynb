{
 "metadata": {
  "name": "project_euler"
 },
 "nbformat": 3,
 "nbformat_minor": 0,
 "worksheets": [
  {
   "cells": [
    {
     "cell_type": "code",
     "collapsed": false,
     "input": [
      "%load_ext cythonmagic"
     ],
     "language": "python",
     "metadata": {},
     "outputs": [],
     "prompt_number": 1
    },
    {
     "cell_type": "markdown",
     "metadata": {},
     "source": [
      "<b>Find the sum of all the multiples of 3 or 5 below 1000.</b>"
     ]
    },
    {
     "cell_type": "code",
     "collapsed": false,
     "input": [
      "s = 0\n",
      "up = 1000\n",
      "\n",
      "for i in xrange(up):\n",
      "    if i % 3 == 0 or i % 5 == 0:\n",
      "        s += i\n",
      "        \n",
      "print s"
     ],
     "language": "python",
     "metadata": {},
     "outputs": [
      {
       "output_type": "stream",
       "stream": "stdout",
       "text": [
        "233168\n"
       ]
      }
     ],
     "prompt_number": 8
    },
    {
     "cell_type": "markdown",
     "metadata": {},
     "source": [
      "<b>By considering the terms in the Fibonacci sequence whose values do not exceed four million, find the sum of the even-valued terms.</b>"
     ]
    },
    {
     "cell_type": "code",
     "collapsed": false,
     "input": [
      "a = 1\n",
      "b = 2\n",
      "s = 0\n",
      "\n",
      "while b < 4e6:\n",
      "    if b % 2 == 0:\n",
      "        s += b\n",
      "        \n",
      "    a, b = b, a + b\n",
      "    \n",
      "print s"
     ],
     "language": "python",
     "metadata": {},
     "outputs": [
      {
       "output_type": "stream",
       "stream": "stdout",
       "text": [
        "4613732\n"
       ]
      }
     ],
     "prompt_number": 7
    },
    {
     "cell_type": "markdown",
     "metadata": {},
     "source": [
      "<b>What is the largest prime factor of the number 600851475143?</b>"
     ]
    },
    {
     "cell_type": "code",
     "collapsed": false,
     "input": [
      "import time\n",
      "start_time = time.time()\n",
      "\n",
      "'''generate primes < n using sieve'''\n",
      "## {{{ http://code.activestate.com/recipes/117119/ (r2)\n",
      "# Sieve of Eratosthenes\n",
      "# David Eppstein, UC Irvine, 28 Feb 2002\n",
      "from __future__ import generators\n",
      "\n",
      "def prime_sieves(n):\n",
      "    D = {}  # map composite integers to primes witnessing their compositeness\n",
      "    q = 2   # first integer to test for primality\n",
      "    out = []\n",
      "    \n",
      "    while q < n:\n",
      "        if q not in D:\n",
      "            out.append(q)  # not marked composite, must be prime\n",
      "            D[q*q] = [q]   # first multiple of q not already marked\n",
      "        else:\n",
      "            for p in D[q]: # move each witness to its next multiple\n",
      "                D.setdefault(p + q, []).append(p)\n",
      "            del D[q]       # no longer need D[q], free memory\n",
      "        q += 1\n",
      "        \n",
      "    return out\n",
      "\n",
      "'''trial division algorithm'''\n",
      "prime_factors = []\n",
      "n = 600851475143\n",
      "primes = prime_sieves(int(n**.5) + 1)\n",
      "\n",
      "for p in primes:\n",
      "    if p * p > n: \n",
      "        break\n",
      "        \n",
      "    while n % p == 0:\n",
      "        prime_factors.append(p)\n",
      "        n //= p\n",
      "        \n",
      "if n > 1:\n",
      "    prime_factors.append(n)\n",
      "        \n",
      "print(\"Time Elapsed: %.3f s\" % (time.time() - start_time))\n",
      "print prime_factors"
     ],
     "language": "python",
     "metadata": {},
     "outputs": [
      {
       "output_type": "stream",
       "stream": "stdout",
       "text": [
        "Time Elapsed: 3.333 s\n",
        "[71, 839, 1471, 6857]\n"
       ]
      }
     ],
     "prompt_number": 62
    },
    {
     "cell_type": "markdown",
     "metadata": {},
     "source": [
      "Other guy's solution, simple, much faster :|"
     ]
    },
    {
     "cell_type": "code",
     "collapsed": false,
     "input": [
      "def max_prime_factor(x):\n",
      "    i = 2\n",
      "    while x != 1:\n",
      "        if x % i == 0:\n",
      "            #print x\n",
      "            x /= i\n",
      "        else:\n",
      "            i += 1\n",
      "            \n",
      "    return i\n",
      "\n",
      "%timeit max_prime_factor(600851475143)\n",
      "print 'The largest prime factor: %d' % max_prime_factor(600851475143)"
     ],
     "language": "python",
     "metadata": {},
     "outputs": [
      {
       "output_type": "stream",
       "stream": "stdout",
       "text": [
        "100 loops, best of 3: 2.35 ms per loop\n",
        "The largest prime factor: 6857\n"
       ]
      }
     ],
     "prompt_number": 206
    },
    {
     "cell_type": "markdown",
     "metadata": {},
     "source": [
      "<b>Find the largest palindrome made from the product of two 3-digit numbers.</b>\n",
      "\n",
      "a cython exercise"
     ]
    },
    {
     "cell_type": "code",
     "collapsed": false,
     "input": [
      "%%cython\n",
      "def get_largest_palindrome(l, h):\n",
      "    from itertools import combinations_with_replacement\n",
      "\n",
      "    maxp = 0\n",
      "    for t in combinations_with_replacement(xrange(l, h), 2):\n",
      "        prod = t[0] * t[1]\n",
      "        if str(prod) == str(prod)[::-1] and prod > maxp:\n",
      "            maxp = prod\n",
      "            \n",
      "    return maxp"
     ],
     "language": "python",
     "metadata": {},
     "outputs": [],
     "prompt_number": 57
    },
    {
     "cell_type": "code",
     "collapsed": false,
     "input": [
      "%timeit get_largest_palindrome(100, 1000)\n",
      "print 'Largest palindrome: %d' % get_largest_palindrome(100, 1000)"
     ],
     "language": "python",
     "metadata": {},
     "outputs": [
      {
       "output_type": "stream",
       "stream": "stdout",
       "text": [
        "1 loops, best of 3: 503 ms per loop\n",
        "Largest palindrome: 906609"
       ]
      },
      {
       "output_type": "stream",
       "stream": "stdout",
       "text": [
        "\n"
       ]
      }
     ],
     "prompt_number": 58
    },
    {
     "cell_type": "markdown",
     "metadata": {},
     "source": [
      "Other guy's solution"
     ]
    },
    {
     "cell_type": "code",
     "collapsed": false,
     "input": [
      "%%cython\n",
      "def palin():\n",
      "    palindrome = 0\n",
      "    for i in range (999, 99, -1):\n",
      "        for j in range (i, 99, -1):\n",
      "            if str(i*j) == str(i*j)[::-1]:\n",
      "               palindrome = max(i*j, palindrome)\n",
      "    return palindrome"
     ],
     "language": "python",
     "metadata": {},
     "outputs": [],
     "prompt_number": 52
    },
    {
     "cell_type": "code",
     "collapsed": false,
     "input": [
      "%timeit palin()\n",
      "print 'Largest palindrome: %d' % palin()"
     ],
     "language": "python",
     "metadata": {},
     "outputs": [
      {
       "output_type": "stream",
       "stream": "stdout",
       "text": [
        "1 loops, best of 3: 489 ms per loop\n",
        "Largest palindrome: 906609"
       ]
      },
      {
       "output_type": "stream",
       "stream": "stdout",
       "text": [
        "\n"
       ]
      }
     ],
     "prompt_number": 53
    },
    {
     "cell_type": "markdown",
     "metadata": {},
     "source": [
      "<b>What is the smallest positive number that is evenly divisible by all of the numbers from 1 to 20?</b>\n",
      "\n",
      "Least common multiple (LCM) of 1..n"
     ]
    },
    {
     "cell_type": "code",
     "collapsed": false,
     "input": [
      "%%cython\n",
      "def gcd(a, b):\n",
      "    while b:\n",
      "        a, b = b, a % b\n",
      "    return a\n",
      "\n",
      "def lcm(a, b):\n",
      "    return a * b // gcd(a, b)\n",
      "\n",
      "def lcmm(*args):\n",
      "    return reduce(lcm, args)"
     ],
     "language": "python",
     "metadata": {},
     "outputs": [],
     "prompt_number": 81
    },
    {
     "cell_type": "code",
     "collapsed": false,
     "input": [
      "%timeit lcmm(*range(1, 21))\n",
      "print lcmm(*range(1, 21))"
     ],
     "language": "python",
     "metadata": {},
     "outputs": [
      {
       "output_type": "stream",
       "stream": "stdout",
       "text": [
        "100000 loops, best of 3: 15.9 us per loop\n",
        "232792560\n"
       ]
      }
     ],
     "prompt_number": 82
    },
    {
     "cell_type": "markdown",
     "metadata": {},
     "source": [
      "<b>Find the difference between the sum of the squares of the first one hundred natural numbers and the square of the sum.</b>"
     ]
    },
    {
     "cell_type": "code",
     "collapsed": false,
     "input": [
      "%%cython\n",
      "def sumsqdiff(n):\n",
      "    a = sum(map(lambda x: x ** 2, xrange(1, n + 1)))\n",
      "    b = sum(xrange(1, n + 1)) ** 2\n",
      "    return b - a"
     ],
     "language": "python",
     "metadata": {},
     "outputs": [],
     "prompt_number": 85
    },
    {
     "cell_type": "code",
     "collapsed": false,
     "input": [
      "%timeit sumsqdiff(100)\n",
      "print sumsqdiff(100)"
     ],
     "language": "python",
     "metadata": {},
     "outputs": [
      {
       "output_type": "stream",
       "stream": "stdout",
       "text": [
        "10000 loops, best of 3: 34 us per loop\n",
        "25164150\n"
       ]
      }
     ],
     "prompt_number": 86
    },
    {
     "cell_type": "markdown",
     "metadata": {},
     "source": [
      "<b>What is the 10001st prime number?</b>"
     ]
    },
    {
     "cell_type": "code",
     "collapsed": false,
     "input": [
      "%%cython\n",
      "def isprime(n):\n",
      "    import math\n",
      "    \n",
      "    if n <= 1:\n",
      "        return False\n",
      "    \n",
      "    # this is more like an exception\n",
      "    elif n in [2, 3]:\n",
      "        return True\n",
      "    \n",
      "    elif n > 2 and n % 2 == 0:\n",
      "        return False\n",
      "    elif n > 3 and ((n + 1) % 6 == 0 or (n - 1) % 6 == 0):\n",
      "        for i in xrange(2, int(math.sqrt(n)) + 1):\n",
      "            if n % i == 0:\n",
      "                return False\n",
      "            else:\n",
      "                continue\n",
      "    else:\n",
      "        return False\n",
      "            \n",
      "    # if it doesn't fall into any of the 'if' traps, then it's a prime\n",
      "    return True\n",
      "\n",
      "\n",
      "def sieve(n):\n",
      "    A = [0, 0] + [1 for _ in xrange(n-1)]\n",
      "    \n",
      "    for i in xrange(2, int(n**.5)):\n",
      "        if A[i] == 1:\n",
      "            for j in xrange(i*i, n+1, i):\n",
      "                A[j] = 0\n",
      "                \n",
      "    return [i for i, prime in enumerate(A) if prime]\n",
      "\n",
      "\n",
      "def gen_sieve(n):\n",
      "    A = [0, 0] + [1 for _ in xrange(n-1)]\n",
      "    \n",
      "    for i in xrange(2, n):\n",
      "        if A[i] == 1:\n",
      "            if i < int(n**.5):\n",
      "                for j in xrange(i*i, n+1, i):\n",
      "                    A[j] = 0\n",
      "                \n",
      "            yield i\n",
      "\n",
      "\n",
      "def nth_prime(n):\n",
      "    '''naive approach, begin from 3, increment and test\n",
      "    '''\n",
      "    # second prime is 3\n",
      "    count = 2\n",
      "    num = 3\n",
      "    \n",
      "    while count < n:\n",
      "        num += 2\n",
      "        \n",
      "        if isprime(num):\n",
      "            count += 1\n",
      "            \n",
      "    return num\n",
      "\n",
      "\n",
      "def nth_prime2(n):\n",
      "    '''using the bound from http://mathdl.maa.org/images/cms_upload/jaroma03200545640.pdf\n",
      "    pn <= n * math.log(n) + n * (math.log(math.log(n)) - 0.9385)\n",
      "    '''\n",
      "    from math import log\n",
      "    \n",
      "    pn = int( n * log(n) + n * (log(log(n)) - 0.9385) )\n",
      "    \n",
      "    return sieve(pn)[n - 1]\n",
      "\n",
      "\n",
      "\n",
      "def getPrimeDivisors(n):\n",
      "    import math\n",
      "    \n",
      "    v = int(math.sqrt(n))\n",
      "    while v > 1:\n",
      "        if n % v == 0:\n",
      "            return getPrimeDivisors(v) + ([] if v == 1 else getPrimeDivisors(n/v))\n",
      "    v -= 1\n",
      "    \n",
      "    return [n]"
     ],
     "language": "python",
     "metadata": {},
     "outputs": [],
     "prompt_number": 2
    },
    {
     "cell_type": "code",
     "collapsed": false,
     "input": [
      "'''test'''\n",
      "import pandas as pd\n",
      "\n",
      "df = pd.read_table('/Users/erriza/Downloads/10000.txt', skiprows=4, header=None, sep=r'\\s+')\n",
      "df = df.ix[:999].applymap(int)\n",
      "primes = df.values.flatten()\n",
      "\n",
      "'''test for false negatives to the 10000th'''\n",
      "flag = True\n",
      "for i in primes:\n",
      "    if isprime(i):\n",
      "        continue\n",
      "    else:\n",
      "        flag = False\n",
      "        break\n",
      "\n",
      "if flag:\n",
      "    print 'no false negative'\n",
      "else:\n",
      "    print 'a mistake is found when checking for prime, on %d' % i\n",
      "\n",
      "\n",
      "'''test for false positives to the 10000th'''\n",
      "not_primes = filter(lambda x: x not in primes, xrange(max(primes)))\n",
      "flag = True\n",
      "for i in not_primes:\n",
      "    if not isprime(i):\n",
      "        continue\n",
      "    else:\n",
      "        flag = False\n",
      "        break\n",
      "        \n",
      "if flag:\n",
      "    print 'no false positive'\n",
      "else:\n",
      "    print 'a mistake is found when checking for not prime, on %d' % i"
     ],
     "language": "python",
     "metadata": {},
     "outputs": [
      {
       "output_type": "stream",
       "stream": "stdout",
       "text": [
        "no false negative\n",
        "no false positive"
       ]
      },
      {
       "output_type": "stream",
       "stream": "stdout",
       "text": [
        "\n"
       ]
      }
     ],
     "prompt_number": 124
    },
    {
     "cell_type": "code",
     "collapsed": false,
     "input": [
      "%timeit nth_prime2(10001)\n",
      "print nth_prime2(10001)"
     ],
     "language": "python",
     "metadata": {},
     "outputs": [
      {
       "output_type": "stream",
       "stream": "stdout",
       "text": [
        "10 loops, best of 3: 28.5 ms per loop\n",
        "104743\n"
       ]
      }
     ],
     "prompt_number": 125
    },
    {
     "cell_type": "markdown",
     "metadata": {},
     "source": [
      "<b>Find the greatest product of five consecutive digits in the 1000-digit number.</b>"
     ]
    },
    {
     "cell_type": "code",
     "collapsed": false,
     "input": [
      "from string import whitespace\n",
      "from operator import mul\n",
      "\n",
      "with open('digits.txt', 'r') as f:\n",
      "    digits = [int(c) for line in f for c in line if c not in whitespace]\n",
      "    \n",
      "max( [reduce(mul, digits[i:i+5]) for i in xrange(0, len(digits) - 4)] )"
     ],
     "language": "python",
     "metadata": {},
     "outputs": [
      {
       "output_type": "pyout",
       "prompt_number": 114,
       "text": [
        "40824"
       ]
      }
     ],
     "prompt_number": 114
    },
    {
     "cell_type": "markdown",
     "metadata": {},
     "source": [
      "<b>There exists exactly one Pythagorean triplet for which a + b + c = 1000. Find the product abc.</b>"
     ]
    },
    {
     "cell_type": "markdown",
     "metadata": {},
     "source": [
      "All Pythagorean triples are of the form (Euclid; http://en.wikipedia.org/wiki/Pythagorean_triple):\n",
      "\n",
      "$$(m^2 - n^2, 2mn, m^2 + n^2)$$\n",
      "\n",
      "Searched is a triplet having a sum of 1000:\n",
      "\n",
      "$$m^2 - n^2 + 2mn + m^2 + n^2 = 1000$$\n",
      "$$2m^2 + 2mn = 1000$$\n",
      "$$m(m + n) = 500$$\n",
      "\n",
      "So basically we just need to find the factor pairs of 500 which forms a triplet.\n",
      "\n",
      "Factor pairs of 500: $(1, 500), (2, 250), (4, 125), (5, 100), (10, 50), (20, 25)$\n",
      "\n",
      "Subtracting $m$ from each of the second element of the pairs: $(1, 499), (2, 248), (4, 121), (5, 95), (10, 40), (20, 5)$\n",
      "\n",
      "The pair $(20, 5)$ seems promising, because it makes a positive first element in the triplet.\n",
      "\n",
      "So: $(a, b, c) = (375, 200, 425)$\n",
      "\n",
      "Check:"
     ]
    },
    {
     "cell_type": "code",
     "collapsed": false,
     "input": [
      "print 375**2 + 200**2, 425**2, 375 + 200 + 425\n",
      "print 'answer: %d' % (375*200*425)"
     ],
     "language": "python",
     "metadata": {},
     "outputs": [
      {
       "output_type": "stream",
       "stream": "stdout",
       "text": [
        "180625 180625 1000\n",
        "answer: 31875000\n"
       ]
      }
     ],
     "prompt_number": 173
    },
    {
     "cell_type": "markdown",
     "metadata": {},
     "source": [
      "<b>Find the sum of all the primes below two million.</b>"
     ]
    },
    {
     "cell_type": "code",
     "collapsed": false,
     "input": [
      "print reduce(add, gen_sieve(2000000))"
     ],
     "language": "python",
     "metadata": {},
     "outputs": [
      {
       "output_type": "stream",
       "stream": "stdout",
       "text": [
        "142913828922\n"
       ]
      }
     ],
     "prompt_number": 212
    },
    {
     "cell_type": "code",
     "collapsed": false,
     "input": [
      "%%timeit\n",
      "from operator import add\n",
      "reduce(add, gen_sieve(2000000))"
     ],
     "language": "python",
     "metadata": {},
     "outputs": [
      {
       "output_type": "stream",
       "stream": "stdout",
       "text": [
        "1 loops, best of 3: 891 ms per loop\n"
       ]
      }
     ],
     "prompt_number": 213
    },
    {
     "cell_type": "markdown",
     "metadata": {},
     "source": [
      "<b>What is the greatest product of four adjacent numbers in the same direction (up, down, left, right, or diagonally) in the 20x20 grid?</b>"
     ]
    },
    {
     "cell_type": "code",
     "collapsed": false,
     "input": [
      "import numpy as np\n",
      "\n",
      "with open('numbers.txt', 'r') as f:\n",
      "    nums = [line.split() for line in f]\n",
      "    \n",
      "numarray = np.array(nums[0]).reshape((20, 20)).astype(int)\n",
      "print numarray"
     ],
     "language": "python",
     "metadata": {},
     "outputs": [
      {
       "output_type": "stream",
       "stream": "stdout",
       "text": [
        "[[ 8  2 22 97 38 15  0 40  0 75  4  5  7 78 52 12 50 77 91  8]\n",
        " [49 49 99 40 17 81 18 57 60 87 17 40 98 43 69 48  4 56 62  0]\n",
        " [81 49 31 73 55 79 14 29 93 71 40 67 53 88 30  3 49 13 36 65]\n",
        " [52 70 95 23  4 60 11 42 69 24 68 56  1 32 56 71 37  2 36 91]\n",
        " [22 31 16 71 51 67 63 89 41 92 36 54 22 40 40 28 66 33 13 80]\n",
        " [24 47 32 60 99  3 45  2 44 75 33 53 78 36 84 20 35 17 12 50]\n",
        " [32 98 81 28 64 23 67 10 26 38 40 67 59 54 70 66 18 38 64 70]\n",
        " [67 26 20 68  2 62 12 20 95 63 94 39 63  8 40 91 66 49 94 21]\n",
        " [24 55 58  5 66 73 99 26 97 17 78 78 96 83 14 88 34 89 63 72]\n",
        " [21 36 23  9 75  0 76 44 20 45 35 14  0 61 33 97 34 31 33 95]\n",
        " [78 17 53 28 22 75 31 67 15 94  3 80  4 62 16 14  9 53 56 92]\n",
        " [16 39  5 42 96 35 31 47 55 58 88 24  0 17 54 24 36 29 85 57]\n",
        " [86 56  0 48 35 71 89  7  5 44 44 37 44 60 21 58 51 54 17 58]\n",
        " [19 80 81 68  5 94 47 69 28 73 92 13 86 52 17 77  4 89 55 40]\n",
        " [ 4 52  8 83 97 35 99 16  7 97 57 32 16 26 26 79 33 27 98 66]\n",
        " [88 36 68 87 57 62 20 72  3 46 33 67 46 55 12 32 63 93 53 69]\n",
        " [ 4 42 16 73 38 25 39 11 24 94 72 18  8 46 29 32 40 62 76 36]\n",
        " [20 69 36 41 72 30 23 88 34 62 99 69 82 67 59 85 74  4 36 16]\n",
        " [20 73 35 29 78 31 90  1 74 31 49 71 48 86 81 16 23 57  5 54]\n",
        " [ 1 70 54 71 83 51 54 69 16 92 33 48 61 43 52  1 89 19 67 48]]\n"
       ]
      }
     ],
     "prompt_number": 342
    },
    {
     "cell_type": "code",
     "collapsed": false,
     "input": [
      "n = numarray.shape[0]\n",
      "maxc = np.zeros((n - 4, n - 4), dtype=int)\n",
      "maxr = np.zeros((n - 4, n - 4), dtype=int)\n",
      "maxd1 = np.zeros((n - 4, n - 4), dtype=int)\n",
      "maxd2 = np.zeros((n - 4, n - 4), dtype=int)\n",
      "\n",
      "for j in range(n - 4):\n",
      "    for i in range(n - 4):\n",
      "        maxc[i,j] = max(numarray[i:i+4,j:j+4].prod(axis=0))\n",
      "        maxr[i,j] = max(numarray[i:i+4,j:j+4].prod(axis=1))\n",
      "        maxd1[i,j] = numarray[i:i+4,j:j+4].diagonal().prod()\n",
      "        maxd2[i,j] = numarray[i:i+4,j:j+4][::-1].diagonal().prod()\n",
      "\n",
      "print max([np.max(maxc), np.max(maxr), np.max(maxd1), np.max(maxd2)])"
     ],
     "language": "python",
     "metadata": {},
     "outputs": [
      {
       "output_type": "stream",
       "stream": "stdout",
       "text": [
        "70600674\n"
       ]
      }
     ],
     "prompt_number": 343
    },
    {
     "cell_type": "markdown",
     "metadata": {},
     "source": [
      "<b>What is the value of the first triangle number to have over five hundred divisors?</b>\n",
      "\n",
      "If the prime factorization of $n$ is:\n",
      "\n",
      "$$n = (p^a)(q^b)...$$\n",
      "\n",
      "then the number of divisors of $n$ is:\n",
      "\n",
      "$$N = (a + 1)(b + 1)...$$"
     ]
    },
    {
     "cell_type": "code",
     "collapsed": false,
     "input": [
      "print getPrimeDivisors(10)"
     ],
     "language": "python",
     "metadata": {},
     "outputs": [],
     "prompt_number": "*"
    },
    {
     "cell_type": "code",
     "collapsed": false,
     "input": [],
     "language": "python",
     "metadata": {},
     "outputs": []
    }
   ],
   "metadata": {}
  }
 ]
}