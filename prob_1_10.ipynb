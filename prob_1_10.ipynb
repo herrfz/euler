{
 "metadata": {
  "name": "prob_1_10"
 },
 "nbformat": 3,
 "nbformat_minor": 0,
 "worksheets": [
  {
   "cells": [
    {
     "cell_type": "code",
     "collapsed": false,
     "input": [
      "%load_ext cythonmagic"
     ],
     "language": "python",
     "metadata": {},
     "outputs": [],
     "prompt_number": 9
    },
    {
     "cell_type": "code",
     "collapsed": false,
     "input": [
      "from inttools import *\n",
      "\n",
      "%load_ext autoreload\n",
      "%autoreload 2"
     ],
     "language": "python",
     "metadata": {},
     "outputs": [],
     "prompt_number": 11
    },
    {
     "cell_type": "markdown",
     "metadata": {},
     "source": [
      "<b>Find the sum of all the multiples of 3 or 5 below 1000.</b>"
     ]
    },
    {
     "cell_type": "code",
     "collapsed": false,
     "input": [
      "s = 0\n",
      "up = 1000\n",
      "\n",
      "for i in xrange(up):\n",
      "    if i % 3 == 0 or i % 5 == 0:\n",
      "        s += i\n",
      "        \n",
      "print s"
     ],
     "language": "python",
     "metadata": {},
     "outputs": [
      {
       "output_type": "stream",
       "stream": "stdout",
       "text": [
        "233168\n"
       ]
      }
     ],
     "prompt_number": 12
    },
    {
     "cell_type": "markdown",
     "metadata": {},
     "source": [
      "<b>By considering the terms in the Fibonacci sequence whose values do not exceed four million, find the sum of the even-valued terms.</b>"
     ]
    },
    {
     "cell_type": "code",
     "collapsed": false,
     "input": [
      "a = 1\n",
      "b = 2\n",
      "s = 0\n",
      "\n",
      "while b < 4e6:\n",
      "    if b % 2 == 0:\n",
      "        s += b\n",
      "        \n",
      "    a, b = b, a + b\n",
      "    \n",
      "print s"
     ],
     "language": "python",
     "metadata": {},
     "outputs": [
      {
       "output_type": "stream",
       "stream": "stdout",
       "text": [
        "4613732\n"
       ]
      }
     ],
     "prompt_number": 13
    },
    {
     "cell_type": "markdown",
     "metadata": {},
     "source": [
      "<b>What is the largest prime factor of the number 600851475143?</b>"
     ]
    },
    {
     "cell_type": "code",
     "collapsed": false,
     "input": [
      "%%timeit\n",
      "'''trial division algorithm'''\n",
      "prime_factors = []\n",
      "n = 600851475143\n",
      "primes = sieve(int(n**.5) + 1)\n",
      "\n",
      "for p in primes:\n",
      "    if p * p > n: \n",
      "        break\n",
      "        \n",
      "    while n % p == 0:\n",
      "        prime_factors.append(p)\n",
      "        n //= p\n",
      "        \n",
      "if n > 1:\n",
      "    prime_factors.append(n)\n",
      "        \n",
      "print prime_factors"
     ],
     "language": "python",
     "metadata": {},
     "outputs": [
      {
       "output_type": "stream",
       "stream": "stdout",
       "text": [
        "[71, 839, 1471, 6857]\n",
        "[71, 839, 1471, 6857]"
       ]
      },
      {
       "output_type": "stream",
       "stream": "stdout",
       "text": [
        "\n",
        "[71, 839, 1471, 6857]"
       ]
      },
      {
       "output_type": "stream",
       "stream": "stdout",
       "text": [
        "\n",
        "[71, 839, 1471, 6857]"
       ]
      },
      {
       "output_type": "stream",
       "stream": "stdout",
       "text": [
        "\n",
        "1 loops, best of 3: 253 ms per loop\n"
       ]
      }
     ],
     "prompt_number": 16
    },
    {
     "cell_type": "markdown",
     "metadata": {},
     "source": [
      "Other guy's solution, simple, much faster :|"
     ]
    },
    {
     "cell_type": "code",
     "collapsed": false,
     "input": [
      "%%cython\n",
      "def max_prime_factor(x):\n",
      "    i = 2\n",
      "    while x != 1:\n",
      "        if x % i == 0:\n",
      "            x /= i\n",
      "        else:\n",
      "            i += 1\n",
      "            \n",
      "    return i"
     ],
     "language": "python",
     "metadata": {},
     "outputs": [],
     "prompt_number": 20
    },
    {
     "cell_type": "code",
     "collapsed": false,
     "input": [
      "%timeit max_prime_factor(600851475143)\n",
      "print 'The largest prime factor: %d' % max_prime_factor(600851475143)"
     ],
     "language": "python",
     "metadata": {},
     "outputs": [
      {
       "output_type": "stream",
       "stream": "stdout",
       "text": [
        "1000 loops, best of 3: 1.43 ms per loop\n",
        "The largest prime factor: 6857\n"
       ]
      }
     ],
     "prompt_number": 21
    },
    {
     "cell_type": "markdown",
     "metadata": {},
     "source": [
      "<b>Find the largest palindrome made from the product of two 3-digit numbers.</b>"
     ]
    },
    {
     "cell_type": "code",
     "collapsed": false,
     "input": [
      "%%cython\n",
      "def get_largest_palindrome(l, h):\n",
      "    from itertools import combinations_with_replacement\n",
      "\n",
      "    maxp = 0\n",
      "    for t in combinations_with_replacement(xrange(l, h), 2):\n",
      "        prod = t[0] * t[1]\n",
      "        if str(prod) == str(prod)[::-1] and prod > maxp:\n",
      "            maxp = prod\n",
      "            \n",
      "    return maxp"
     ],
     "language": "python",
     "metadata": {},
     "outputs": [],
     "prompt_number": 22
    },
    {
     "cell_type": "code",
     "collapsed": false,
     "input": [
      "%timeit get_largest_palindrome(100, 1000)\n",
      "print 'Largest palindrome: %d' % get_largest_palindrome(100, 1000)"
     ],
     "language": "python",
     "metadata": {},
     "outputs": [
      {
       "output_type": "stream",
       "stream": "stdout",
       "text": [
        "1 loops, best of 3: 498 ms per loop\n",
        "Largest palindrome: 906609"
       ]
      },
      {
       "output_type": "stream",
       "stream": "stdout",
       "text": [
        "\n"
       ]
      }
     ],
     "prompt_number": 23
    },
    {
     "cell_type": "markdown",
     "metadata": {},
     "source": [
      "Other guy's solution"
     ]
    },
    {
     "cell_type": "code",
     "collapsed": false,
     "input": [
      "%%cython\n",
      "def palin():\n",
      "    palindrome = 0\n",
      "    for i in range (999, 99, -1):\n",
      "        for j in range (i, 99, -1):\n",
      "            if str(i*j) == str(i*j)[::-1]:\n",
      "               palindrome = max(i*j, palindrome)\n",
      "    return palindrome"
     ],
     "language": "python",
     "metadata": {},
     "outputs": [],
     "prompt_number": 24
    },
    {
     "cell_type": "code",
     "collapsed": false,
     "input": [
      "%timeit palin()\n",
      "print 'Largest palindrome: %d' % palin()"
     ],
     "language": "python",
     "metadata": {},
     "outputs": [
      {
       "output_type": "stream",
       "stream": "stdout",
       "text": [
        "1 loops, best of 3: 473 ms per loop\n",
        "Largest palindrome: 906609"
       ]
      },
      {
       "output_type": "stream",
       "stream": "stdout",
       "text": [
        "\n"
       ]
      }
     ],
     "prompt_number": 25
    },
    {
     "cell_type": "markdown",
     "metadata": {},
     "source": [
      "<b>What is the smallest positive number that is evenly divisible by all of the numbers from 1 to 20?</b>\n",
      "\n",
      "Least common multiple (LCM) of 1..n"
     ]
    },
    {
     "cell_type": "code",
     "collapsed": false,
     "input": [
      "%timeit lcmm(*range(1, 21))\n",
      "print lcmm(*range(1, 21))"
     ],
     "language": "python",
     "metadata": {},
     "outputs": [
      {
       "output_type": "stream",
       "stream": "stdout",
       "text": [
        "100000 loops, best of 3: 15.5 us per loop\n",
        "232792560\n"
       ]
      }
     ],
     "prompt_number": 26
    },
    {
     "cell_type": "markdown",
     "metadata": {},
     "source": [
      "<b>Find the difference between the sum of the squares of the first one hundred natural numbers and the square of the sum.</b>"
     ]
    },
    {
     "cell_type": "code",
     "collapsed": false,
     "input": [
      "%%cython\n",
      "def sumsqdiff(n):\n",
      "    a = sum(map(lambda x: x ** 2, xrange(1, n + 1)))\n",
      "    b = sum(xrange(1, n + 1)) ** 2\n",
      "    return b - a"
     ],
     "language": "python",
     "metadata": {},
     "outputs": [],
     "prompt_number": 27
    },
    {
     "cell_type": "code",
     "collapsed": false,
     "input": [
      "%timeit sumsqdiff(100)\n",
      "print sumsqdiff(100)"
     ],
     "language": "python",
     "metadata": {},
     "outputs": [
      {
       "output_type": "stream",
       "stream": "stdout",
       "text": [
        "10000 loops, best of 3: 33.8 us per loop\n",
        "25164150\n"
       ]
      }
     ],
     "prompt_number": 28
    },
    {
     "cell_type": "markdown",
     "metadata": {},
     "source": [
      "<b>What is the 10001st prime number?</b>"
     ]
    },
    {
     "cell_type": "code",
     "collapsed": false,
     "input": [
      "%timeit nth_prime(10001)\n",
      "print nth_prime(10001)"
     ],
     "language": "python",
     "metadata": {},
     "outputs": [
      {
       "output_type": "stream",
       "stream": "stdout",
       "text": [
        "10 loops, best of 3: 29 ms per loop\n",
        "104743"
       ]
      },
      {
       "output_type": "stream",
       "stream": "stdout",
       "text": [
        "\n"
       ]
      }
     ],
     "prompt_number": 29
    },
    {
     "cell_type": "markdown",
     "metadata": {},
     "source": [
      "<b>Find the greatest product of five consecutive digits in the 1000-digit number.</b>"
     ]
    },
    {
     "cell_type": "code",
     "collapsed": false,
     "input": [
      "from string import whitespace\n",
      "from operator import mul\n",
      "\n",
      "with open('digits.txt', 'r') as f:\n",
      "    digits = [int(c) for line in f for c in line if c not in whitespace]\n",
      "    \n",
      "max( [reduce(mul, digits[i:i+5]) for i in xrange(0, len(digits) - 4)] )"
     ],
     "language": "python",
     "metadata": {},
     "outputs": [
      {
       "output_type": "pyout",
       "prompt_number": 30,
       "text": [
        "40824"
       ]
      }
     ],
     "prompt_number": 30
    },
    {
     "cell_type": "markdown",
     "metadata": {},
     "source": [
      "<b>There exists exactly one Pythagorean triplet for which a + b + c = 1000. Find the product abc.</b>"
     ]
    },
    {
     "cell_type": "markdown",
     "metadata": {},
     "source": [
      "All Pythagorean triples are of the form (Euclid; http://en.wikipedia.org/wiki/Pythagorean_triple):\n",
      "\n",
      "$$(m^2 - n^2, 2mn, m^2 + n^2)$$\n",
      "\n",
      "Searched is a triplet having a sum of 1000:\n",
      "\n",
      "$$m^2 - n^2 + 2mn + m^2 + n^2 = 1000$$\n",
      "$$2m^2 + 2mn = 1000$$\n",
      "$$m(m + n) = 500$$\n",
      "\n",
      "So basically we just need to find the factor pairs of 500 which forms a triplet.\n",
      "\n",
      "Factor pairs of 500: $(1, 500), (2, 250), (4, 125), (5, 100), (10, 50), (20, 25)$\n",
      "\n",
      "Subtracting $m$ from each of the second element of the pairs: $(1, 499), (2, 248), (4, 121), (5, 95), (10, 40), (20, 5)$\n",
      "\n",
      "The pair $(20, 5)$ seems promising, because it makes a positive first element in the triplet.\n",
      "\n",
      "So: $(a, b, c) = (375, 200, 425)$\n",
      "\n",
      "Check:"
     ]
    },
    {
     "cell_type": "code",
     "collapsed": false,
     "input": [
      "print 375**2 + 200**2, 425**2, 375 + 200 + 425\n",
      "print 'answer: %d' % (375*200*425)"
     ],
     "language": "python",
     "metadata": {},
     "outputs": [
      {
       "output_type": "stream",
       "stream": "stdout",
       "text": [
        "180625 180625 1000\n",
        "answer: 31875000\n"
       ]
      }
     ],
     "prompt_number": 31
    },
    {
     "cell_type": "markdown",
     "metadata": {},
     "source": [
      "<b>Find the sum of all the primes below two million.</b>"
     ]
    },
    {
     "cell_type": "code",
     "collapsed": false,
     "input": [
      "from operator import add\n",
      "print reduce(add, sieve2(2000000))"
     ],
     "language": "python",
     "metadata": {},
     "outputs": [
      {
       "output_type": "stream",
       "stream": "stdout",
       "text": [
        "142913828922\n"
       ]
      }
     ],
     "prompt_number": 34
    },
    {
     "cell_type": "code",
     "collapsed": false,
     "input": [
      "%%timeit\n",
      "from operator import add\n",
      "reduce(add, sieve2(2000000))"
     ],
     "language": "python",
     "metadata": {},
     "outputs": [
      {
       "output_type": "stream",
       "stream": "stdout",
       "text": [
        "1 loops, best of 3: 933 ms per loop\n"
       ]
      }
     ],
     "prompt_number": 36
    },
    {
     "cell_type": "code",
     "collapsed": false,
     "input": [],
     "language": "python",
     "metadata": {},
     "outputs": []
    }
   ],
   "metadata": {}
  }
 ]
}